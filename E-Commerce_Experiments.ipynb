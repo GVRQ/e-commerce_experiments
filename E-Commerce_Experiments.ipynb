{
 "cells": [
  {
   "cell_type": "markdown",
   "id": "cff0d073",
   "metadata": {},
   "source": [
    "This Data Science project's goal is to conduct experiments with various metrics on e-commerce data.\n",
    "\n",
    "I am going to use a dataset from *Shopify's 2022 Data Science Internship*.\n",
    "\n",
    "Plan:\n",
    "- EDA is performed on the original dataset: data description; detecting & treating outliers; Understanding relationships through plots;\n",
    "- Heuristic metrics - CLV\n",
    "- Gamma-Gamma & BG/NBD - CLV\n",
    "- Customer Lifetime Value prediction and segmentation\n",
    "- RFM Segmentation (Recency, Frequency, and Monetary)\n",
    "- CLV Segments + RFM\n",
    "- Recommendations (marketing tips for every customer segment)\n",
    "\n",
    "**Customer Lifetime Value**\n",
    "\n",
    "It is essential to know what each customer is worth to a business and understand the success rate of current strategies. CLV is a metric that grants knowledge and shows the amount of value a customer is expected to bring to a business over time.\n",
    "\n",
    "CLV is a great asset and key to making financial forecasts and addressing any budget concerns. It gives an insight into many areas of a business and provides the knowledge to be projected onto future business decisions. \n",
    "\n",
    "**Heuristic metrics vs Gamma-Gamma & BG/NBD**\n",
    "\n",
    "For E-Commerce CLV calculation we are going to use two methods:\n",
    "- **Heuristic metrics** | Practical but suboptimal approach\n",
    "- **Gamma-Gamma & BG/NBD** | Robust methodology with individual metrics and predictions\n",
    "\n",
    "**RFM Segmentation**\n",
    "\n",
    "RFM segmentation is a great method to identify groups of customers for special treatment. RFM analysis allows marketers to target specific clusters of customers with communications that are much more relevant for their particular behavior – and thus generate much higher rates of response, plus increased loyalty and customer lifetime value.\n",
    "\n",
    "**Accomplished**:\n",
    "- Calculated metrics: `Tenure`, `Average Order Value`, `Average Order Frequency`, `Average Customer Value`, `Average Customer Lifetime`, `Customer Lifetime Value`;\n",
    "- List of customers that will purchase in the next period.\n",
    "- Top 10 customers expected to make the most purchases in the next period (Week, Month, 6 Months).\n",
    "- Top 10 most valuable customers by average transaction value\n",
    "- CLV Customer Segmentation\n",
    "- Average CLV (3 months) per Segment (A,B,C)\n",
    "- RFM Segmentation (Scores and Labeling)\n",
    "- CLV + RFM analysis\n",
    "- Crosstab Results & Recommendations (marketing tips on targeting specific clusters of customers)\n",
    "- Number of Customers and amount of CLV (3 months) in the Risk groups"
   ]
  },
  {
   "cell_type": "markdown",
   "id": "658de39a",
   "metadata": {},
   "source": [
    "# Data imports"
   ]
  },
  {
   "cell_type": "code",
   "execution_count": 1,
   "id": "419b8619",
   "metadata": {},
   "outputs": [],
   "source": [
    "#!pip install squarify"
   ]
  },
  {
   "cell_type": "code",
   "execution_count": 2,
   "id": "16c69b70",
   "metadata": {},
   "outputs": [],
   "source": [
    "import pandas as pd\n",
    "import numpy as np\n",
    "import seaborn as sns\n",
    "import datetime as dt\n",
    "import matplotlib.pyplot as plt\n",
    "import squarify\n",
    "\n",
    "from datetime import datetime\n",
    "from lifetimes import BetaGeoFitter\n",
    "from lifetimes import GammaGammaFitter\n",
    "\n",
    "import warnings\n",
    "warnings.simplefilter(action='ignore', category=FutureWarning)"
   ]
  },
  {
   "cell_type": "code",
   "execution_count": 3,
   "id": "cdb5ee3f",
   "metadata": {},
   "outputs": [],
   "source": [
    "df = pd.read_csv(\"Shopify_Data_Science_Challenge_Data_Set.csv\")"
   ]
  },
  {
   "cell_type": "markdown",
   "id": "df1307bd",
   "metadata": {},
   "source": [
    "# EDA"
   ]
  },
  {
   "cell_type": "code",
   "execution_count": 4,
   "id": "99e2f5cb",
   "metadata": {},
   "outputs": [
    {
     "data": {
      "text/html": [
       "<div>\n",
       "<style scoped>\n",
       "    .dataframe tbody tr th:only-of-type {\n",
       "        vertical-align: middle;\n",
       "    }\n",
       "\n",
       "    .dataframe tbody tr th {\n",
       "        vertical-align: top;\n",
       "    }\n",
       "\n",
       "    .dataframe thead th {\n",
       "        text-align: right;\n",
       "    }\n",
       "</style>\n",
       "<table border=\"1\" class=\"dataframe\">\n",
       "  <thead>\n",
       "    <tr style=\"text-align: right;\">\n",
       "      <th></th>\n",
       "      <th>order_id</th>\n",
       "      <th>shop_id</th>\n",
       "      <th>user_id</th>\n",
       "      <th>order_amount</th>\n",
       "      <th>total_items</th>\n",
       "      <th>payment_method</th>\n",
       "      <th>created_at</th>\n",
       "    </tr>\n",
       "  </thead>\n",
       "  <tbody>\n",
       "    <tr>\n",
       "      <th>0</th>\n",
       "      <td>1</td>\n",
       "      <td>53</td>\n",
       "      <td>746</td>\n",
       "      <td>224</td>\n",
       "      <td>2</td>\n",
       "      <td>cash</td>\n",
       "      <td>2017-03-13 12:36:56</td>\n",
       "    </tr>\n",
       "    <tr>\n",
       "      <th>1</th>\n",
       "      <td>2</td>\n",
       "      <td>92</td>\n",
       "      <td>925</td>\n",
       "      <td>90</td>\n",
       "      <td>1</td>\n",
       "      <td>cash</td>\n",
       "      <td>2017-03-03 17:38:52</td>\n",
       "    </tr>\n",
       "    <tr>\n",
       "      <th>2</th>\n",
       "      <td>3</td>\n",
       "      <td>44</td>\n",
       "      <td>861</td>\n",
       "      <td>144</td>\n",
       "      <td>1</td>\n",
       "      <td>cash</td>\n",
       "      <td>2017-03-14 4:23:56</td>\n",
       "    </tr>\n",
       "    <tr>\n",
       "      <th>3</th>\n",
       "      <td>4</td>\n",
       "      <td>18</td>\n",
       "      <td>935</td>\n",
       "      <td>156</td>\n",
       "      <td>1</td>\n",
       "      <td>credit_card</td>\n",
       "      <td>2017-03-26 12:43:37</td>\n",
       "    </tr>\n",
       "    <tr>\n",
       "      <th>4</th>\n",
       "      <td>5</td>\n",
       "      <td>18</td>\n",
       "      <td>883</td>\n",
       "      <td>156</td>\n",
       "      <td>1</td>\n",
       "      <td>credit_card</td>\n",
       "      <td>2017-03-01 4:35:11</td>\n",
       "    </tr>\n",
       "  </tbody>\n",
       "</table>\n",
       "</div>"
      ],
      "text/plain": [
       "   order_id  shop_id  user_id  order_amount  total_items payment_method  \\\n",
       "0         1       53      746           224            2           cash   \n",
       "1         2       92      925            90            1           cash   \n",
       "2         3       44      861           144            1           cash   \n",
       "3         4       18      935           156            1    credit_card   \n",
       "4         5       18      883           156            1    credit_card   \n",
       "\n",
       "            created_at  \n",
       "0  2017-03-13 12:36:56  \n",
       "1  2017-03-03 17:38:52  \n",
       "2   2017-03-14 4:23:56  \n",
       "3  2017-03-26 12:43:37  \n",
       "4   2017-03-01 4:35:11  "
      ]
     },
     "execution_count": 4,
     "metadata": {},
     "output_type": "execute_result"
    }
   ],
   "source": [
    "df.head()"
   ]
  },
  {
   "cell_type": "code",
   "execution_count": 5,
   "id": "3b135580",
   "metadata": {},
   "outputs": [
    {
     "name": "stdout",
     "output_type": "stream",
     "text": [
      "order_id          5000\n",
      "shop_id            100\n",
      "user_id            301\n",
      "order_amount       258\n",
      "total_items          8\n",
      "payment_method       3\n",
      "created_at        4991\n",
      "dtype: int64\n"
     ]
    }
   ],
   "source": [
    "print(df.nunique())"
   ]
  },
  {
   "cell_type": "code",
   "execution_count": 6,
   "id": "4726aa17",
   "metadata": {},
   "outputs": [
    {
     "data": {
      "text/html": [
       "<div>\n",
       "<style scoped>\n",
       "    .dataframe tbody tr th:only-of-type {\n",
       "        vertical-align: middle;\n",
       "    }\n",
       "\n",
       "    .dataframe tbody tr th {\n",
       "        vertical-align: top;\n",
       "    }\n",
       "\n",
       "    .dataframe thead th {\n",
       "        text-align: right;\n",
       "    }\n",
       "</style>\n",
       "<table border=\"1\" class=\"dataframe\">\n",
       "  <thead>\n",
       "    <tr style=\"text-align: right;\">\n",
       "      <th></th>\n",
       "      <th>order_id</th>\n",
       "      <th>shop_id</th>\n",
       "      <th>user_id</th>\n",
       "      <th>order_amount</th>\n",
       "      <th>total_items</th>\n",
       "    </tr>\n",
       "  </thead>\n",
       "  <tbody>\n",
       "    <tr>\n",
       "      <th>count</th>\n",
       "      <td>5000.000000</td>\n",
       "      <td>5000.000000</td>\n",
       "      <td>5000.000000</td>\n",
       "      <td>5000.000000</td>\n",
       "      <td>5000.00000</td>\n",
       "    </tr>\n",
       "    <tr>\n",
       "      <th>mean</th>\n",
       "      <td>2500.500000</td>\n",
       "      <td>50.078800</td>\n",
       "      <td>849.092400</td>\n",
       "      <td>3145.128000</td>\n",
       "      <td>8.78720</td>\n",
       "    </tr>\n",
       "    <tr>\n",
       "      <th>std</th>\n",
       "      <td>1443.520003</td>\n",
       "      <td>29.006118</td>\n",
       "      <td>87.798982</td>\n",
       "      <td>41282.539349</td>\n",
       "      <td>116.32032</td>\n",
       "    </tr>\n",
       "    <tr>\n",
       "      <th>min</th>\n",
       "      <td>1.000000</td>\n",
       "      <td>1.000000</td>\n",
       "      <td>607.000000</td>\n",
       "      <td>90.000000</td>\n",
       "      <td>1.00000</td>\n",
       "    </tr>\n",
       "    <tr>\n",
       "      <th>25%</th>\n",
       "      <td>1250.750000</td>\n",
       "      <td>24.000000</td>\n",
       "      <td>775.000000</td>\n",
       "      <td>163.000000</td>\n",
       "      <td>1.00000</td>\n",
       "    </tr>\n",
       "    <tr>\n",
       "      <th>50%</th>\n",
       "      <td>2500.500000</td>\n",
       "      <td>50.000000</td>\n",
       "      <td>849.000000</td>\n",
       "      <td>284.000000</td>\n",
       "      <td>2.00000</td>\n",
       "    </tr>\n",
       "    <tr>\n",
       "      <th>75%</th>\n",
       "      <td>3750.250000</td>\n",
       "      <td>75.000000</td>\n",
       "      <td>925.000000</td>\n",
       "      <td>390.000000</td>\n",
       "      <td>3.00000</td>\n",
       "    </tr>\n",
       "    <tr>\n",
       "      <th>max</th>\n",
       "      <td>5000.000000</td>\n",
       "      <td>100.000000</td>\n",
       "      <td>999.000000</td>\n",
       "      <td>704000.000000</td>\n",
       "      <td>2000.00000</td>\n",
       "    </tr>\n",
       "  </tbody>\n",
       "</table>\n",
       "</div>"
      ],
      "text/plain": [
       "          order_id      shop_id      user_id   order_amount  total_items\n",
       "count  5000.000000  5000.000000  5000.000000    5000.000000   5000.00000\n",
       "mean   2500.500000    50.078800   849.092400    3145.128000      8.78720\n",
       "std    1443.520003    29.006118    87.798982   41282.539349    116.32032\n",
       "min       1.000000     1.000000   607.000000      90.000000      1.00000\n",
       "25%    1250.750000    24.000000   775.000000     163.000000      1.00000\n",
       "50%    2500.500000    50.000000   849.000000     284.000000      2.00000\n",
       "75%    3750.250000    75.000000   925.000000     390.000000      3.00000\n",
       "max    5000.000000   100.000000   999.000000  704000.000000   2000.00000"
      ]
     },
     "execution_count": 6,
     "metadata": {},
     "output_type": "execute_result"
    }
   ],
   "source": [
    "df.describe()"
   ]
  },
  {
   "cell_type": "code",
   "execution_count": 7,
   "id": "cf8d4adb",
   "metadata": {},
   "outputs": [
    {
     "data": {
      "text/plain": [
       "<AxesSubplot:xlabel='order_amount'>"
      ]
     },
     "execution_count": 7,
     "metadata": {},
     "output_type": "execute_result"
    },
    {
     "data": {
      "image/png": "[encoded data removed]",
      "text/plain": [
       "<Figure size 432x288 with 1 Axes>"
      ]
     },
     "metadata": {
      "needs_background": "light"
     },
     "output_type": "display_data"
    }
   ],
   "source": [
    "sns.boxplot(df['order_amount'])"
   ]
  },
  {
   "cell_type": "code",
   "execution_count": 8,
   "id": "a1613042",
   "metadata": {},
   "outputs": [
    {
     "data": {
      "image/png": "[encoded data removed]",
      "text/plain": [
       "<Figure size 1008x216 with 1 Axes>"
      ]
     },
     "metadata": {
      "needs_background": "light"
     },
     "output_type": "display_data"
    },
    {
     "data": {
      "image/png": "[encoded data removed]",
      "text/plain": [
       "<Figure size 1008x216 with 1 Axes>"
      ]
     },
     "metadata": {
      "needs_background": "light"
     },
     "output_type": "display_data"
    },
    {
     "data": {
      "image/png": "[encoded data removed]",
      "text/plain": [
       "<Figure size 1008x216 with 1 Axes>"
      ]
     },
     "metadata": {
      "needs_background": "light"
     },
     "output_type": "display_data"
    },
    {
     "data": {
      "image/png": "[encoded data removed]",
      "text/plain": [
       "<Figure size 1008x216 with 1 Axes>"
      ]
     },
     "metadata": {
      "needs_background": "light"
     },
     "output_type": "display_data"
    }
   ],
   "source": [
    "basket = 100\n",
    "df.hist('order_amount', bins=basket, figsize=(14,3), range=(0, 1000));\n",
    "df.hist('order_amount', bins=basket, figsize=(14,3), range=(1001, 5000));\n",
    "df.hist('order_amount', bins=basket, figsize=(14,3), range=(5001, 50000));\n",
    "df.hist('order_amount', bins=basket, figsize=(14,3), range=(50001, 750000));"
   ]
  },
  {
   "cell_type": "code",
   "execution_count": 9,
   "id": "c176d35e",
   "metadata": {},
   "outputs": [
    {
     "data": {
      "text/html": [
       "<div>\n",
       "<style scoped>\n",
       "    .dataframe tbody tr th:only-of-type {\n",
       "        vertical-align: middle;\n",
       "    }\n",
       "\n",
       "    .dataframe tbody tr th {\n",
       "        vertical-align: top;\n",
       "    }\n",
       "\n",
       "    .dataframe thead th {\n",
       "        text-align: right;\n",
       "    }\n",
       "</style>\n",
       "<table border=\"1\" class=\"dataframe\">\n",
       "  <thead>\n",
       "    <tr style=\"text-align: right;\">\n",
       "      <th></th>\n",
       "      <th>order_id</th>\n",
       "      <th>shop_id</th>\n",
       "      <th>user_id</th>\n",
       "      <th>order_amount</th>\n",
       "      <th>total_items</th>\n",
       "      <th>payment_method</th>\n",
       "      <th>created_at</th>\n",
       "    </tr>\n",
       "  </thead>\n",
       "  <tbody>\n",
       "    <tr>\n",
       "      <th>1367</th>\n",
       "      <td>1368</td>\n",
       "      <td>42</td>\n",
       "      <td>926</td>\n",
       "      <td>1408</td>\n",
       "      <td>4</td>\n",
       "      <td>cash</td>\n",
       "      <td>2017-03-13 2:38:34</td>\n",
       "    </tr>\n",
       "    <tr>\n",
       "      <th>1471</th>\n",
       "      <td>1472</td>\n",
       "      <td>42</td>\n",
       "      <td>907</td>\n",
       "      <td>1408</td>\n",
       "      <td>4</td>\n",
       "      <td>debit</td>\n",
       "      <td>2017-03-12 23:00:22</td>\n",
       "    </tr>\n",
       "    <tr>\n",
       "      <th>1364</th>\n",
       "      <td>1365</td>\n",
       "      <td>42</td>\n",
       "      <td>797</td>\n",
       "      <td>1760</td>\n",
       "      <td>5</td>\n",
       "      <td>cash</td>\n",
       "      <td>2017-03-10 6:28:21</td>\n",
       "    </tr>\n",
       "    <tr>\n",
       "      <th>1384</th>\n",
       "      <td>1385</td>\n",
       "      <td>78</td>\n",
       "      <td>867</td>\n",
       "      <td>25725</td>\n",
       "      <td>1</td>\n",
       "      <td>cash</td>\n",
       "      <td>2017-03-17 16:38:06</td>\n",
       "    </tr>\n",
       "    <tr>\n",
       "      <th>1419</th>\n",
       "      <td>1420</td>\n",
       "      <td>78</td>\n",
       "      <td>912</td>\n",
       "      <td>25725</td>\n",
       "      <td>1</td>\n",
       "      <td>cash</td>\n",
       "      <td>2017-03-30 12:23:43</td>\n",
       "    </tr>\n",
       "  </tbody>\n",
       "</table>\n",
       "</div>"
      ],
      "text/plain": [
       "      order_id  shop_id  user_id  order_amount  total_items payment_method  \\\n",
       "1367      1368       42      926          1408            4           cash   \n",
       "1471      1472       42      907          1408            4          debit   \n",
       "1364      1365       42      797          1760            5           cash   \n",
       "1384      1385       78      867         25725            1           cash   \n",
       "1419      1420       78      912         25725            1           cash   \n",
       "\n",
       "               created_at  \n",
       "1367   2017-03-13 2:38:34  \n",
       "1471  2017-03-12 23:00:22  \n",
       "1364   2017-03-10 6:28:21  \n",
       "1384  2017-03-17 16:38:06  \n",
       "1419  2017-03-30 12:23:43  "
      ]
     },
     "execution_count": 9,
     "metadata": {},
     "output_type": "execute_result"
    }
   ],
   "source": [
    "df[(df['order_amount'] > 1400)].sort_values(by=['order_amount']).head()"
   ]
  },
  {
   "cell_type": "code",
   "execution_count": 10,
   "id": "8a74805d",
   "metadata": {},
   "outputs": [],
   "source": [
    "df = df[(df['order_amount'] < 1800)]"
   ]
  },
  {
   "cell_type": "code",
   "execution_count": 11,
   "id": "8fef2d1d",
   "metadata": {},
   "outputs": [
    {
     "data": {
      "text/html": [
       "<div>\n",
       "<style scoped>\n",
       "    .dataframe tbody tr th:only-of-type {\n",
       "        vertical-align: middle;\n",
       "    }\n",
       "\n",
       "    .dataframe tbody tr th {\n",
       "        vertical-align: top;\n",
       "    }\n",
       "\n",
       "    .dataframe thead th {\n",
       "        text-align: right;\n",
       "    }\n",
       "</style>\n",
       "<table border=\"1\" class=\"dataframe\">\n",
       "  <thead>\n",
       "    <tr style=\"text-align: right;\">\n",
       "      <th></th>\n",
       "      <th>order_id</th>\n",
       "      <th>shop_id</th>\n",
       "      <th>user_id</th>\n",
       "      <th>order_amount</th>\n",
       "      <th>total_items</th>\n",
       "    </tr>\n",
       "  </thead>\n",
       "  <tbody>\n",
       "    <tr>\n",
       "      <th>count</th>\n",
       "      <td>4937.000000</td>\n",
       "      <td>4937.000000</td>\n",
       "      <td>4937.000000</td>\n",
       "      <td>4937.000000</td>\n",
       "      <td>4937.000000</td>\n",
       "    </tr>\n",
       "    <tr>\n",
       "      <th>mean</th>\n",
       "      <td>2499.551347</td>\n",
       "      <td>49.846465</td>\n",
       "      <td>849.752279</td>\n",
       "      <td>302.580514</td>\n",
       "      <td>1.994734</td>\n",
       "    </tr>\n",
       "    <tr>\n",
       "      <th>std</th>\n",
       "      <td>1444.069407</td>\n",
       "      <td>29.061131</td>\n",
       "      <td>86.840313</td>\n",
       "      <td>160.804912</td>\n",
       "      <td>0.982821</td>\n",
       "    </tr>\n",
       "    <tr>\n",
       "      <th>min</th>\n",
       "      <td>1.000000</td>\n",
       "      <td>1.000000</td>\n",
       "      <td>700.000000</td>\n",
       "      <td>90.000000</td>\n",
       "      <td>1.000000</td>\n",
       "    </tr>\n",
       "    <tr>\n",
       "      <th>25%</th>\n",
       "      <td>1248.000000</td>\n",
       "      <td>24.000000</td>\n",
       "      <td>775.000000</td>\n",
       "      <td>163.000000</td>\n",
       "      <td>1.000000</td>\n",
       "    </tr>\n",
       "    <tr>\n",
       "      <th>50%</th>\n",
       "      <td>2497.000000</td>\n",
       "      <td>50.000000</td>\n",
       "      <td>850.000000</td>\n",
       "      <td>284.000000</td>\n",
       "      <td>2.000000</td>\n",
       "    </tr>\n",
       "    <tr>\n",
       "      <th>75%</th>\n",
       "      <td>3751.000000</td>\n",
       "      <td>74.000000</td>\n",
       "      <td>925.000000</td>\n",
       "      <td>387.000000</td>\n",
       "      <td>3.000000</td>\n",
       "    </tr>\n",
       "    <tr>\n",
       "      <th>max</th>\n",
       "      <td>5000.000000</td>\n",
       "      <td>100.000000</td>\n",
       "      <td>999.000000</td>\n",
       "      <td>1760.000000</td>\n",
       "      <td>8.000000</td>\n",
       "    </tr>\n",
       "  </tbody>\n",
       "</table>\n",
       "</div>"
      ],
      "text/plain": [
       "          order_id      shop_id      user_id  order_amount  total_items\n",
       "count  4937.000000  4937.000000  4937.000000   4937.000000  4937.000000\n",
       "mean   2499.551347    49.846465   849.752279    302.580514     1.994734\n",
       "std    1444.069407    29.061131    86.840313    160.804912     0.982821\n",
       "min       1.000000     1.000000   700.000000     90.000000     1.000000\n",
       "25%    1248.000000    24.000000   775.000000    163.000000     1.000000\n",
       "50%    2497.000000    50.000000   850.000000    284.000000     2.000000\n",
       "75%    3751.000000    74.000000   925.000000    387.000000     3.000000\n",
       "max    5000.000000   100.000000   999.000000   1760.000000     8.000000"
      ]
     },
     "execution_count": 11,
     "metadata": {},
     "output_type": "execute_result"
    }
   ],
   "source": [
    "df.describe()"
   ]
  },
  {
   "cell_type": "code",
   "execution_count": 12,
   "id": "27888497",
   "metadata": {},
   "outputs": [
    {
     "data": {
      "text/html": [
       "<div>\n",
       "<style scoped>\n",
       "    .dataframe tbody tr th:only-of-type {\n",
       "        vertical-align: middle;\n",
       "    }\n",
       "\n",
       "    .dataframe tbody tr th {\n",
       "        vertical-align: top;\n",
       "    }\n",
       "\n",
       "    .dataframe thead th {\n",
       "        text-align: right;\n",
       "    }\n",
       "</style>\n",
       "<table border=\"1\" class=\"dataframe\">\n",
       "  <thead>\n",
       "    <tr style=\"text-align: right;\">\n",
       "      <th></th>\n",
       "      <th>order_id</th>\n",
       "      <th>shop_id</th>\n",
       "      <th>user_id</th>\n",
       "      <th>order_amount</th>\n",
       "      <th>total_items</th>\n",
       "      <th>payment_method</th>\n",
       "      <th>created_at</th>\n",
       "    </tr>\n",
       "  </thead>\n",
       "  <tbody>\n",
       "    <tr>\n",
       "      <th>4141</th>\n",
       "      <td>4142</td>\n",
       "      <td>54</td>\n",
       "      <td>733</td>\n",
       "      <td>1064</td>\n",
       "      <td>8</td>\n",
       "      <td>debit</td>\n",
       "      <td>2017-03-07 17:05:18</td>\n",
       "    </tr>\n",
       "  </tbody>\n",
       "</table>\n",
       "</div>"
      ],
      "text/plain": [
       "      order_id  shop_id  user_id  order_amount  total_items payment_method  \\\n",
       "4141      4142       54      733          1064            8          debit   \n",
       "\n",
       "               created_at  \n",
       "4141  2017-03-07 17:05:18  "
      ]
     },
     "execution_count": 12,
     "metadata": {},
     "output_type": "execute_result"
    }
   ],
   "source": [
    "df[(df['total_items'] > 7)]"
   ]
  },
  {
   "cell_type": "markdown",
   "id": "df2048ae",
   "metadata": {},
   "source": [
    "All good! Outliers removed. Outliers were most probably B2B-customers."
   ]
  },
  {
   "cell_type": "code",
   "execution_count": 13,
   "id": "a388aed4",
   "metadata": {},
   "outputs": [
    {
     "data": {
      "text/plain": [
       "<AxesSubplot:xlabel='order_amount'>"
      ]
     },
     "execution_count": 13,
     "metadata": {},
     "output_type": "execute_result"
    },
    {
     "data": {
      "image/png": "[encoded data removed]",
      "text/plain": [
       "<Figure size 432x288 with 1 Axes>"
      ]
     },
     "metadata": {
      "needs_background": "light"
     },
     "output_type": "display_data"
    }
   ],
   "source": [
    "sns.boxplot(df['order_amount'])"
   ]
  },
  {
   "cell_type": "code",
   "execution_count": 14,
   "id": "67c91e31",
   "metadata": {},
   "outputs": [
    {
     "data": {
      "image/png": "[encoded data removed]",
      "text/plain": [
       "<Figure size 1008x216 with 1 Axes>"
      ]
     },
     "metadata": {
      "needs_background": "light"
     },
     "output_type": "display_data"
    },
    {
     "data": {
      "image/png": "[encoded data removed]",
      "text/plain": [
       "<Figure size 1008x216 with 1 Axes>"
      ]
     },
     "metadata": {
      "needs_background": "light"
     },
     "output_type": "display_data"
    },
    {
     "data": {
      "image/png": "[encoded data removed]",
      "text/plain": [
       "<Figure size 1008x216 with 1 Axes>"
      ]
     },
     "metadata": {
      "needs_background": "light"
     },
     "output_type": "display_data"
    }
   ],
   "source": [
    "basket = 100\n",
    "df.hist('order_amount', bins=basket, figsize=(14,3), range=(0, 750));\n",
    "df.hist('order_amount', bins=basket, figsize=(14,3), range=(0, 2000));\n",
    "df.hist('order_amount', bins=basket, figsize=(14,3), range=(1000, 2000));"
   ]
  },
  {
   "cell_type": "markdown",
   "id": "fd5f417b",
   "metadata": {},
   "source": [
    "# Heuristic metrics"
   ]
  },
  {
   "cell_type": "markdown",
   "id": "ba670505",
   "metadata": {},
   "source": [
    "### Orders df"
   ]
  },
  {
   "cell_type": "markdown",
   "id": "7df14c32",
   "metadata": {},
   "source": [
    "Create an **orders dataframe**\n",
    "\n",
    "We need to create an `orders` from our `df` dataframe using a Pandas groupby() with an agg() function. This gives us aggregated data on each order in the dataset."
   ]
  },
  {
   "cell_type": "code",
   "execution_count": 15,
   "id": "7f589670",
   "metadata": {},
   "outputs": [],
   "source": [
    "orders = df.groupby('order_id').agg(\n",
    "    shop_id=('shop_id', 'max'),\n",
    "    user_id=('user_id', 'max'),\n",
    "    order_date=('created_at', 'max'),\n",
    "    revenue=('order_amount', 'sum'),\n",
    "    items=('total_items', 'sum'),\n",
    "    payment_method=('payment_method', 'max')\n",
    ").reset_index()"
   ]
  },
  {
   "cell_type": "code",
   "execution_count": 16,
   "id": "75e2c3e0",
   "metadata": {},
   "outputs": [
    {
     "data": {
      "text/html": [
       "<div>\n",
       "<style scoped>\n",
       "    .dataframe tbody tr th:only-of-type {\n",
       "        vertical-align: middle;\n",
       "    }\n",
       "\n",
       "    .dataframe tbody tr th {\n",
       "        vertical-align: top;\n",
       "    }\n",
       "\n",
       "    .dataframe thead th {\n",
       "        text-align: right;\n",
       "    }\n",
       "</style>\n",
       "<table border=\"1\" class=\"dataframe\">\n",
       "  <thead>\n",
       "    <tr style=\"text-align: right;\">\n",
       "      <th></th>\n",
       "      <th>order_id</th>\n",
       "      <th>shop_id</th>\n",
       "      <th>user_id</th>\n",
       "      <th>order_date</th>\n",
       "      <th>revenue</th>\n",
       "      <th>items</th>\n",
       "      <th>payment_method</th>\n",
       "    </tr>\n",
       "  </thead>\n",
       "  <tbody>\n",
       "    <tr>\n",
       "      <th>0</th>\n",
       "      <td>1</td>\n",
       "      <td>53</td>\n",
       "      <td>746</td>\n",
       "      <td>2017-03-13 12:36:56</td>\n",
       "      <td>224</td>\n",
       "      <td>2</td>\n",
       "      <td>cash</td>\n",
       "    </tr>\n",
       "    <tr>\n",
       "      <th>1</th>\n",
       "      <td>2</td>\n",
       "      <td>92</td>\n",
       "      <td>925</td>\n",
       "      <td>2017-03-03 17:38:52</td>\n",
       "      <td>90</td>\n",
       "      <td>1</td>\n",
       "      <td>cash</td>\n",
       "    </tr>\n",
       "    <tr>\n",
       "      <th>2</th>\n",
       "      <td>3</td>\n",
       "      <td>44</td>\n",
       "      <td>861</td>\n",
       "      <td>2017-03-14 4:23:56</td>\n",
       "      <td>144</td>\n",
       "      <td>1</td>\n",
       "      <td>cash</td>\n",
       "    </tr>\n",
       "    <tr>\n",
       "      <th>3</th>\n",
       "      <td>4</td>\n",
       "      <td>18</td>\n",
       "      <td>935</td>\n",
       "      <td>2017-03-26 12:43:37</td>\n",
       "      <td>156</td>\n",
       "      <td>1</td>\n",
       "      <td>credit_card</td>\n",
       "    </tr>\n",
       "    <tr>\n",
       "      <th>4</th>\n",
       "      <td>5</td>\n",
       "      <td>18</td>\n",
       "      <td>883</td>\n",
       "      <td>2017-03-01 4:35:11</td>\n",
       "      <td>156</td>\n",
       "      <td>1</td>\n",
       "      <td>credit_card</td>\n",
       "    </tr>\n",
       "  </tbody>\n",
       "</table>\n",
       "</div>"
      ],
      "text/plain": [
       "   order_id  shop_id  user_id           order_date  revenue  items  \\\n",
       "0         1       53      746  2017-03-13 12:36:56      224      2   \n",
       "1         2       92      925  2017-03-03 17:38:52       90      1   \n",
       "2         3       44      861   2017-03-14 4:23:56      144      1   \n",
       "3         4       18      935  2017-03-26 12:43:37      156      1   \n",
       "4         5       18      883   2017-03-01 4:35:11      156      1   \n",
       "\n",
       "  payment_method  \n",
       "0           cash  \n",
       "1           cash  \n",
       "2           cash  \n",
       "3    credit_card  \n",
       "4    credit_card  "
      ]
     },
     "execution_count": 16,
     "metadata": {},
     "output_type": "execute_result"
    }
   ],
   "source": [
    "orders.head()"
   ]
  },
  {
   "cell_type": "code",
   "execution_count": 17,
   "id": "81c67f1f",
   "metadata": {},
   "outputs": [
    {
     "data": {
      "text/plain": [
       "<AxesSubplot:xlabel='revenue'>"
      ]
     },
     "execution_count": 17,
     "metadata": {},
     "output_type": "execute_result"
    },
    {
     "data": {
      "image/png": "[encoded data removed]",
      "text/plain": [
       "<Figure size 432x288 with 1 Axes>"
      ]
     },
     "metadata": {
      "needs_background": "light"
     },
     "output_type": "display_data"
    }
   ],
   "source": [
    "sns.boxplot(orders['revenue'])"
   ]
  },
  {
   "cell_type": "code",
   "execution_count": 18,
   "id": "ca539baf",
   "metadata": {},
   "outputs": [],
   "source": [
    "orders['order_date'] = pd.to_datetime(orders['order_date']).dt.normalize()"
   ]
  },
  {
   "cell_type": "code",
   "execution_count": 19,
   "id": "9b219f58",
   "metadata": {},
   "outputs": [
    {
     "data": {
      "text/html": [
       "<div>\n",
       "<style scoped>\n",
       "    .dataframe tbody tr th:only-of-type {\n",
       "        vertical-align: middle;\n",
       "    }\n",
       "\n",
       "    .dataframe tbody tr th {\n",
       "        vertical-align: top;\n",
       "    }\n",
       "\n",
       "    .dataframe thead th {\n",
       "        text-align: right;\n",
       "    }\n",
       "</style>\n",
       "<table border=\"1\" class=\"dataframe\">\n",
       "  <thead>\n",
       "    <tr style=\"text-align: right;\">\n",
       "      <th></th>\n",
       "      <th>order_id</th>\n",
       "      <th>shop_id</th>\n",
       "      <th>user_id</th>\n",
       "      <th>order_date</th>\n",
       "      <th>revenue</th>\n",
       "      <th>items</th>\n",
       "      <th>payment_method</th>\n",
       "    </tr>\n",
       "  </thead>\n",
       "  <tbody>\n",
       "    <tr>\n",
       "      <th>0</th>\n",
       "      <td>1</td>\n",
       "      <td>53</td>\n",
       "      <td>746</td>\n",
       "      <td>2017-03-13</td>\n",
       "      <td>224</td>\n",
       "      <td>2</td>\n",
       "      <td>cash</td>\n",
       "    </tr>\n",
       "    <tr>\n",
       "      <th>1</th>\n",
       "      <td>2</td>\n",
       "      <td>92</td>\n",
       "      <td>925</td>\n",
       "      <td>2017-03-03</td>\n",
       "      <td>90</td>\n",
       "      <td>1</td>\n",
       "      <td>cash</td>\n",
       "    </tr>\n",
       "    <tr>\n",
       "      <th>2</th>\n",
       "      <td>3</td>\n",
       "      <td>44</td>\n",
       "      <td>861</td>\n",
       "      <td>2017-03-14</td>\n",
       "      <td>144</td>\n",
       "      <td>1</td>\n",
       "      <td>cash</td>\n",
       "    </tr>\n",
       "    <tr>\n",
       "      <th>3</th>\n",
       "      <td>4</td>\n",
       "      <td>18</td>\n",
       "      <td>935</td>\n",
       "      <td>2017-03-26</td>\n",
       "      <td>156</td>\n",
       "      <td>1</td>\n",
       "      <td>credit_card</td>\n",
       "    </tr>\n",
       "    <tr>\n",
       "      <th>4</th>\n",
       "      <td>5</td>\n",
       "      <td>18</td>\n",
       "      <td>883</td>\n",
       "      <td>2017-03-01</td>\n",
       "      <td>156</td>\n",
       "      <td>1</td>\n",
       "      <td>credit_card</td>\n",
       "    </tr>\n",
       "    <tr>\n",
       "      <th>...</th>\n",
       "      <td>...</td>\n",
       "      <td>...</td>\n",
       "      <td>...</td>\n",
       "      <td>...</td>\n",
       "      <td>...</td>\n",
       "      <td>...</td>\n",
       "      <td>...</td>\n",
       "    </tr>\n",
       "    <tr>\n",
       "      <th>4932</th>\n",
       "      <td>4996</td>\n",
       "      <td>73</td>\n",
       "      <td>993</td>\n",
       "      <td>2017-03-30</td>\n",
       "      <td>330</td>\n",
       "      <td>2</td>\n",
       "      <td>debit</td>\n",
       "    </tr>\n",
       "    <tr>\n",
       "      <th>4933</th>\n",
       "      <td>4997</td>\n",
       "      <td>48</td>\n",
       "      <td>789</td>\n",
       "      <td>2017-03-16</td>\n",
       "      <td>234</td>\n",
       "      <td>2</td>\n",
       "      <td>cash</td>\n",
       "    </tr>\n",
       "    <tr>\n",
       "      <th>4934</th>\n",
       "      <td>4998</td>\n",
       "      <td>56</td>\n",
       "      <td>867</td>\n",
       "      <td>2017-03-19</td>\n",
       "      <td>351</td>\n",
       "      <td>3</td>\n",
       "      <td>cash</td>\n",
       "    </tr>\n",
       "    <tr>\n",
       "      <th>4935</th>\n",
       "      <td>4999</td>\n",
       "      <td>60</td>\n",
       "      <td>825</td>\n",
       "      <td>2017-03-16</td>\n",
       "      <td>354</td>\n",
       "      <td>2</td>\n",
       "      <td>credit_card</td>\n",
       "    </tr>\n",
       "    <tr>\n",
       "      <th>4936</th>\n",
       "      <td>5000</td>\n",
       "      <td>44</td>\n",
       "      <td>734</td>\n",
       "      <td>2017-03-18</td>\n",
       "      <td>288</td>\n",
       "      <td>2</td>\n",
       "      <td>debit</td>\n",
       "    </tr>\n",
       "  </tbody>\n",
       "</table>\n",
       "<p>4937 rows × 7 columns</p>\n",
       "</div>"
      ],
      "text/plain": [
       "      order_id  shop_id  user_id order_date  revenue  items payment_method\n",
       "0            1       53      746 2017-03-13      224      2           cash\n",
       "1            2       92      925 2017-03-03       90      1           cash\n",
       "2            3       44      861 2017-03-14      144      1           cash\n",
       "3            4       18      935 2017-03-26      156      1    credit_card\n",
       "4            5       18      883 2017-03-01      156      1    credit_card\n",
       "...        ...      ...      ...        ...      ...    ...            ...\n",
       "4932      4996       73      993 2017-03-30      330      2          debit\n",
       "4933      4997       48      789 2017-03-16      234      2           cash\n",
       "4934      4998       56      867 2017-03-19      351      3           cash\n",
       "4935      4999       60      825 2017-03-16      354      2    credit_card\n",
       "4936      5000       44      734 2017-03-18      288      2          debit\n",
       "\n",
       "[4937 rows x 7 columns]"
      ]
     },
     "execution_count": 19,
     "metadata": {},
     "output_type": "execute_result"
    }
   ],
   "source": [
    "orders"
   ]
  },
  {
   "cell_type": "markdown",
   "id": "83192748",
   "metadata": {},
   "source": [
    "### Customers df"
   ]
  },
  {
   "cell_type": "markdown",
   "id": "8c6c4e5c",
   "metadata": {},
   "source": [
    "Create a **customers dataframe**\n",
    "\n",
    "Now we’ll repeat the process but will use groupby() and agg() to create a customers dataframe. We’ll calculate the date of each customer’s first and last order and store these. We’ll then calculate the tenure of each customer by return a time delta of the two dates."
   ]
  },
  {
   "cell_type": "code",
   "execution_count": 20,
   "id": "c4e51f36",
   "metadata": {},
   "outputs": [],
   "source": [
    "customers = df.groupby('user_id').agg(\n",
    "    revenue=('order_amount', 'sum'),\n",
    "    shop_id=('shop_id', 'max'),\n",
    "    orders=('order_id', 'nunique'),\n",
    "    items=('total_items', 'sum'),\n",
    "    first_order_date=('created_at', 'min'),\n",
    "    last_order_date=('created_at', 'max')    \n",
    ").reset_index().sort_values(by='revenue', ascending=False)"
   ]
  },
  {
   "cell_type": "code",
   "execution_count": 21,
   "id": "ec729e84",
   "metadata": {},
   "outputs": [
    {
     "data": {
      "text/html": [
       "<div>\n",
       "<style scoped>\n",
       "    .dataframe tbody tr th:only-of-type {\n",
       "        vertical-align: middle;\n",
       "    }\n",
       "\n",
       "    .dataframe tbody tr th {\n",
       "        vertical-align: top;\n",
       "    }\n",
       "\n",
       "    .dataframe thead th {\n",
       "        text-align: right;\n",
       "    }\n",
       "</style>\n",
       "<table border=\"1\" class=\"dataframe\">\n",
       "  <thead>\n",
       "    <tr style=\"text-align: right;\">\n",
       "      <th></th>\n",
       "      <th>user_id</th>\n",
       "      <th>revenue</th>\n",
       "      <th>shop_id</th>\n",
       "      <th>orders</th>\n",
       "      <th>items</th>\n",
       "      <th>first_order_date</th>\n",
       "      <th>last_order_date</th>\n",
       "    </tr>\n",
       "  </thead>\n",
       "  <tbody>\n",
       "    <tr>\n",
       "      <th>18</th>\n",
       "      <td>718</td>\n",
       "      <td>8952</td>\n",
       "      <td>97</td>\n",
       "      <td>28</td>\n",
       "      <td>58</td>\n",
       "      <td>2017-03-01 0:47:54</td>\n",
       "      <td>2017-03-29 22:35:08</td>\n",
       "    </tr>\n",
       "    <tr>\n",
       "      <th>87</th>\n",
       "      <td>787</td>\n",
       "      <td>8532</td>\n",
       "      <td>97</td>\n",
       "      <td>24</td>\n",
       "      <td>54</td>\n",
       "      <td>2017-03-02 5:05:25</td>\n",
       "      <td>2017-03-29 22:43:20</td>\n",
       "    </tr>\n",
       "    <tr>\n",
       "      <th>168</th>\n",
       "      <td>868</td>\n",
       "      <td>8317</td>\n",
       "      <td>93</td>\n",
       "      <td>27</td>\n",
       "      <td>52</td>\n",
       "      <td>2017-03-01 18:33:33</td>\n",
       "      <td>2017-03-27 7:34:12</td>\n",
       "    </tr>\n",
       "    <tr>\n",
       "      <th>34</th>\n",
       "      <td>734</td>\n",
       "      <td>8200</td>\n",
       "      <td>99</td>\n",
       "      <td>24</td>\n",
       "      <td>52</td>\n",
       "      <td>2017-03-01 1:09:59</td>\n",
       "      <td>2017-03-30 11:34:52</td>\n",
       "    </tr>\n",
       "    <tr>\n",
       "      <th>147</th>\n",
       "      <td>847</td>\n",
       "      <td>8197</td>\n",
       "      <td>100</td>\n",
       "      <td>26</td>\n",
       "      <td>54</td>\n",
       "      <td>2017-03-01 11:32:33</td>\n",
       "      <td>2017-03-26 21:37:56</td>\n",
       "    </tr>\n",
       "  </tbody>\n",
       "</table>\n",
       "</div>"
      ],
      "text/plain": [
       "     user_id  revenue  shop_id  orders  items     first_order_date  \\\n",
       "18       718     8952       97      28     58   2017-03-01 0:47:54   \n",
       "87       787     8532       97      24     54   2017-03-02 5:05:25   \n",
       "168      868     8317       93      27     52  2017-03-01 18:33:33   \n",
       "34       734     8200       99      24     52   2017-03-01 1:09:59   \n",
       "147      847     8197      100      26     54  2017-03-01 11:32:33   \n",
       "\n",
       "         last_order_date  \n",
       "18   2017-03-29 22:35:08  \n",
       "87   2017-03-29 22:43:20  \n",
       "168   2017-03-27 7:34:12  \n",
       "34   2017-03-30 11:34:52  \n",
       "147  2017-03-26 21:37:56  "
      ]
     },
     "execution_count": 21,
     "metadata": {},
     "output_type": "execute_result"
    }
   ],
   "source": [
    "customers.head()"
   ]
  },
  {
   "cell_type": "code",
   "execution_count": 22,
   "id": "c0065ae5",
   "metadata": {},
   "outputs": [
    {
     "data": {
      "text/plain": [
       "<AxesSubplot:xlabel='revenue'>"
      ]
     },
     "execution_count": 22,
     "metadata": {},
     "output_type": "execute_result"
    },
    {
     "data": {
      "image/png": "[encoded data removed]",
      "text/plain": [
       "<Figure size 432x288 with 1 Axes>"
      ]
     },
     "metadata": {
      "needs_background": "light"
     },
     "output_type": "display_data"
    }
   ],
   "source": [
    "sns.boxplot(customers['revenue'])"
   ]
  },
  {
   "cell_type": "code",
   "execution_count": 23,
   "id": "f0b7864d",
   "metadata": {},
   "outputs": [
    {
     "data": {
      "image/png": "[encoded data removed]",
      "text/plain": [
       "<Figure size 1008x216 with 1 Axes>"
      ]
     },
     "metadata": {
      "needs_background": "light"
     },
     "output_type": "display_data"
    },
    {
     "data": {
      "image/png": "[encoded data removed]",
      "text/plain": [
       "<Figure size 1008x216 with 1 Axes>"
      ]
     },
     "metadata": {
      "needs_background": "light"
     },
     "output_type": "display_data"
    },
    {
     "data": {
      "image/png": "[encoded data removed]",
      "text/plain": [
       "<Figure size 1008x216 with 1 Axes>"
      ]
     },
     "metadata": {
      "needs_background": "light"
     },
     "output_type": "display_data"
    }
   ],
   "source": [
    "basket = 100\n",
    "customers.hist('revenue', bins=basket, figsize=(14,3), range=(2000, 10000));\n",
    "customers.hist('revenue', bins=basket, figsize=(14,3), range=(2500, 6500));\n",
    "customers.hist('revenue', bins=basket, figsize=(14,3), range=(1000, 20000));"
   ]
  },
  {
   "cell_type": "markdown",
   "id": "3ba28fe0",
   "metadata": {},
   "source": [
    "### Tenure"
   ]
  },
  {
   "cell_type": "markdown",
   "id": "693a5a0c",
   "metadata": {},
   "source": [
    "**Tenure calculation**"
   ]
  },
  {
   "cell_type": "code",
   "execution_count": 24,
   "id": "f6c1a6f6",
   "metadata": {},
   "outputs": [],
   "source": [
    "customers['last_order_date'] = pd.to_datetime(customers['last_order_date']).dt.normalize()\n",
    "customers['first_order_date'] = pd.to_datetime(customers['first_order_date']).dt.normalize()"
   ]
  },
  {
   "cell_type": "code",
   "execution_count": 25,
   "id": "bf85a184",
   "metadata": {},
   "outputs": [],
   "source": [
    "customers['last_order_date'] = pd.to_datetime(customers['last_order_date']).dt.normalize()\n",
    "customers['first_order_date'] = pd.to_datetime(customers['first_order_date']).dt.normalize()"
   ]
  },
  {
   "cell_type": "code",
   "execution_count": 26,
   "id": "1557d2a5",
   "metadata": {},
   "outputs": [],
   "source": [
    "customers['tenure'] = round((customers['last_order_date'] \n",
    "                             - customers['first_order_date']) \n",
    "                            / np.timedelta64(1, 'D') ).astype(int)"
   ]
  },
  {
   "cell_type": "code",
   "execution_count": 27,
   "id": "42b029b9",
   "metadata": {},
   "outputs": [
    {
     "data": {
      "text/html": [
       "<div>\n",
       "<style scoped>\n",
       "    .dataframe tbody tr th:only-of-type {\n",
       "        vertical-align: middle;\n",
       "    }\n",
       "\n",
       "    .dataframe tbody tr th {\n",
       "        vertical-align: top;\n",
       "    }\n",
       "\n",
       "    .dataframe thead th {\n",
       "        text-align: right;\n",
       "    }\n",
       "</style>\n",
       "<table border=\"1\" class=\"dataframe\">\n",
       "  <thead>\n",
       "    <tr style=\"text-align: right;\">\n",
       "      <th></th>\n",
       "      <th>user_id</th>\n",
       "      <th>revenue</th>\n",
       "      <th>shop_id</th>\n",
       "      <th>orders</th>\n",
       "      <th>items</th>\n",
       "      <th>first_order_date</th>\n",
       "      <th>last_order_date</th>\n",
       "      <th>tenure</th>\n",
       "    </tr>\n",
       "  </thead>\n",
       "  <tbody>\n",
       "    <tr>\n",
       "      <th>34</th>\n",
       "      <td>734</td>\n",
       "      <td>8200</td>\n",
       "      <td>99</td>\n",
       "      <td>24</td>\n",
       "      <td>52</td>\n",
       "      <td>2017-03-01</td>\n",
       "      <td>2017-03-30</td>\n",
       "      <td>29</td>\n",
       "    </tr>\n",
       "    <tr>\n",
       "      <th>18</th>\n",
       "      <td>718</td>\n",
       "      <td>8952</td>\n",
       "      <td>97</td>\n",
       "      <td>28</td>\n",
       "      <td>58</td>\n",
       "      <td>2017-03-01</td>\n",
       "      <td>2017-03-29</td>\n",
       "      <td>28</td>\n",
       "    </tr>\n",
       "    <tr>\n",
       "      <th>87</th>\n",
       "      <td>787</td>\n",
       "      <td>8532</td>\n",
       "      <td>97</td>\n",
       "      <td>24</td>\n",
       "      <td>54</td>\n",
       "      <td>2017-03-02</td>\n",
       "      <td>2017-03-29</td>\n",
       "      <td>27</td>\n",
       "    </tr>\n",
       "    <tr>\n",
       "      <th>168</th>\n",
       "      <td>868</td>\n",
       "      <td>8317</td>\n",
       "      <td>93</td>\n",
       "      <td>27</td>\n",
       "      <td>52</td>\n",
       "      <td>2017-03-01</td>\n",
       "      <td>2017-03-27</td>\n",
       "      <td>26</td>\n",
       "    </tr>\n",
       "    <tr>\n",
       "      <th>147</th>\n",
       "      <td>847</td>\n",
       "      <td>8197</td>\n",
       "      <td>100</td>\n",
       "      <td>26</td>\n",
       "      <td>54</td>\n",
       "      <td>2017-03-01</td>\n",
       "      <td>2017-03-26</td>\n",
       "      <td>25</td>\n",
       "    </tr>\n",
       "  </tbody>\n",
       "</table>\n",
       "</div>"
      ],
      "text/plain": [
       "     user_id  revenue  shop_id  orders  items first_order_date  \\\n",
       "34       734     8200       99      24     52       2017-03-01   \n",
       "18       718     8952       97      28     58       2017-03-01   \n",
       "87       787     8532       97      24     54       2017-03-02   \n",
       "168      868     8317       93      27     52       2017-03-01   \n",
       "147      847     8197      100      26     54       2017-03-01   \n",
       "\n",
       "    last_order_date  tenure  \n",
       "34       2017-03-30      29  \n",
       "18       2017-03-29      28  \n",
       "87       2017-03-29      27  \n",
       "168      2017-03-27      26  \n",
       "147      2017-03-26      25  "
      ]
     },
     "execution_count": 27,
     "metadata": {},
     "output_type": "execute_result"
    }
   ],
   "source": [
    "customers.head().sort_values(by=['tenure'],ascending=False)"
   ]
  },
  {
   "cell_type": "code",
   "execution_count": 28,
   "id": "e02889d4",
   "metadata": {},
   "outputs": [
    {
     "data": {
      "text/html": [
       "<div>\n",
       "<style scoped>\n",
       "    .dataframe tbody tr th:only-of-type {\n",
       "        vertical-align: middle;\n",
       "    }\n",
       "\n",
       "    .dataframe tbody tr th {\n",
       "        vertical-align: top;\n",
       "    }\n",
       "\n",
       "    .dataframe thead th {\n",
       "        text-align: right;\n",
       "    }\n",
       "</style>\n",
       "<table border=\"1\" class=\"dataframe\">\n",
       "  <thead>\n",
       "    <tr style=\"text-align: right;\">\n",
       "      <th></th>\n",
       "      <th>user_id</th>\n",
       "      <th>revenue</th>\n",
       "      <th>shop_id</th>\n",
       "      <th>orders</th>\n",
       "      <th>items</th>\n",
       "      <th>tenure</th>\n",
       "    </tr>\n",
       "  </thead>\n",
       "  <tbody>\n",
       "    <tr>\n",
       "      <th>count</th>\n",
       "      <td>300.000000</td>\n",
       "      <td>300.000000</td>\n",
       "      <td>300.000000</td>\n",
       "      <td>300.000000</td>\n",
       "      <td>300.000000</td>\n",
       "      <td>300.000000</td>\n",
       "    </tr>\n",
       "    <tr>\n",
       "      <th>mean</th>\n",
       "      <td>849.500000</td>\n",
       "      <td>4979.466667</td>\n",
       "      <td>94.080000</td>\n",
       "      <td>16.456667</td>\n",
       "      <td>32.826667</td>\n",
       "      <td>26.403333</td>\n",
       "    </tr>\n",
       "    <tr>\n",
       "      <th>std</th>\n",
       "      <td>86.746758</td>\n",
       "      <td>1369.722146</td>\n",
       "      <td>5.929372</td>\n",
       "      <td>3.991813</td>\n",
       "      <td>8.951184</td>\n",
       "      <td>2.257797</td>\n",
       "    </tr>\n",
       "    <tr>\n",
       "      <th>min</th>\n",
       "      <td>700.000000</td>\n",
       "      <td>2102.000000</td>\n",
       "      <td>65.000000</td>\n",
       "      <td>7.000000</td>\n",
       "      <td>14.000000</td>\n",
       "      <td>16.000000</td>\n",
       "    </tr>\n",
       "    <tr>\n",
       "      <th>25%</th>\n",
       "      <td>774.750000</td>\n",
       "      <td>3951.500000</td>\n",
       "      <td>91.000000</td>\n",
       "      <td>13.750000</td>\n",
       "      <td>26.000000</td>\n",
       "      <td>25.000000</td>\n",
       "    </tr>\n",
       "    <tr>\n",
       "      <th>50%</th>\n",
       "      <td>849.500000</td>\n",
       "      <td>4805.000000</td>\n",
       "      <td>96.000000</td>\n",
       "      <td>16.000000</td>\n",
       "      <td>32.000000</td>\n",
       "      <td>27.000000</td>\n",
       "    </tr>\n",
       "    <tr>\n",
       "      <th>75%</th>\n",
       "      <td>924.250000</td>\n",
       "      <td>5819.000000</td>\n",
       "      <td>99.000000</td>\n",
       "      <td>19.000000</td>\n",
       "      <td>39.000000</td>\n",
       "      <td>28.000000</td>\n",
       "    </tr>\n",
       "    <tr>\n",
       "      <th>max</th>\n",
       "      <td>999.000000</td>\n",
       "      <td>8952.000000</td>\n",
       "      <td>100.000000</td>\n",
       "      <td>28.000000</td>\n",
       "      <td>58.000000</td>\n",
       "      <td>29.000000</td>\n",
       "    </tr>\n",
       "  </tbody>\n",
       "</table>\n",
       "</div>"
      ],
      "text/plain": [
       "          user_id      revenue     shop_id      orders       items      tenure\n",
       "count  300.000000   300.000000  300.000000  300.000000  300.000000  300.000000\n",
       "mean   849.500000  4979.466667   94.080000   16.456667   32.826667   26.403333\n",
       "std     86.746758  1369.722146    5.929372    3.991813    8.951184    2.257797\n",
       "min    700.000000  2102.000000   65.000000    7.000000   14.000000   16.000000\n",
       "25%    774.750000  3951.500000   91.000000   13.750000   26.000000   25.000000\n",
       "50%    849.500000  4805.000000   96.000000   16.000000   32.000000   27.000000\n",
       "75%    924.250000  5819.000000   99.000000   19.000000   39.000000   28.000000\n",
       "max    999.000000  8952.000000  100.000000   28.000000   58.000000   29.000000"
      ]
     },
     "execution_count": 28,
     "metadata": {},
     "output_type": "execute_result"
    }
   ],
   "source": [
    "customers.describe()"
   ]
  },
  {
   "cell_type": "markdown",
   "id": "32a9440c",
   "metadata": {},
   "source": [
    "### Average Order Value"
   ]
  },
  {
   "cell_type": "markdown",
   "id": "a7c1d0a5",
   "metadata": {},
   "source": [
    "Calculate the **Average Order Value**"
   ]
  },
  {
   "cell_type": "code",
   "execution_count": 29,
   "id": "4b1f2c0c",
   "metadata": {},
   "outputs": [
    {
     "name": "stdout",
     "output_type": "stream",
     "text": [
      "Average Order Value: mean    302.6\n",
      "dtype: float64\n"
     ]
    }
   ],
   "source": [
    "aov = customers['revenue'].describe().loc[['mean']] / customers['orders'].describe().loc[['mean']]\n",
    "print('Average Order Value:', aov.round(1))"
   ]
  },
  {
   "cell_type": "code",
   "execution_count": 30,
   "id": "38903072",
   "metadata": {},
   "outputs": [],
   "source": [
    "# double check"
   ]
  },
  {
   "cell_type": "code",
   "execution_count": 31,
   "id": "5da8a388",
   "metadata": {},
   "outputs": [],
   "source": [
    "def get_avg_order_value(revenue, orders):\n",
    "    \"\"\"Return the Average Order Value (AOV)\n",
    "    \n",
    "    Args:\n",
    "        revenue (float): Total revenue\n",
    "        orders (int): Total orders\n",
    "    Return:\n",
    "        avg_order_value (float): Average order value\n",
    "    \"\"\"\n",
    "    \n",
    "    return revenue / orders"
   ]
  },
  {
   "cell_type": "code",
   "execution_count": 32,
   "id": "3076baa3",
   "metadata": {},
   "outputs": [
    {
     "data": {
      "text/plain": [
       "302.6"
      ]
     },
     "execution_count": 32,
     "metadata": {},
     "output_type": "execute_result"
    }
   ],
   "source": [
    "avg_order_value = get_avg_order_value(customers['revenue'].sum(), orders['order_id'].nunique())\n",
    "avg_order_value.round(1)"
   ]
  },
  {
   "cell_type": "markdown",
   "id": "ff11de87",
   "metadata": {},
   "source": [
    "### Average Order Frequency"
   ]
  },
  {
   "cell_type": "markdown",
   "id": "48f96354",
   "metadata": {},
   "source": [
    "Calculate the **Average Order Frequency**\n",
    "\n",
    "The average number of orders placed by each customer in the dataset. This is simply the total number of orders divided by the total number of customers."
   ]
  },
  {
   "cell_type": "code",
   "execution_count": 33,
   "id": "9c89bc7a",
   "metadata": {},
   "outputs": [
    {
     "name": "stdout",
     "output_type": "stream",
     "text": [
      "Average Order Frequency: mean    16.5\n",
      "Name: orders, dtype: float64\n"
     ]
    }
   ],
   "source": [
    "aof = customers['orders'].describe().loc[['mean']]\n",
    "print('Average Order Frequency:', aof.round(1))"
   ]
  },
  {
   "cell_type": "code",
   "execution_count": 34,
   "id": "fb1cfc3a",
   "metadata": {},
   "outputs": [],
   "source": [
    "# double check"
   ]
  },
  {
   "cell_type": "code",
   "execution_count": 35,
   "id": "04c7fd66",
   "metadata": {},
   "outputs": [],
   "source": [
    "def get_avg_order_frequency(orders, customers): \n",
    "    \"\"\"Return the Average Order Frequency (AOF)\n",
    "    # double check\n",
    "    Args:\n",
    "        orders (int): Total orders\n",
    "        customers (int): Total customers        \n",
    "    Return:\n",
    "        avg_order_frequency (float): Average Order Frequency (AOF)\n",
    "    \"\"\"\n",
    "    \n",
    "    return orders / customers"
   ]
  },
  {
   "cell_type": "code",
   "execution_count": 36,
   "id": "3b0d74d6",
   "metadata": {},
   "outputs": [
    {
     "data": {
      "text/plain": [
       "16.5"
      ]
     },
     "execution_count": 36,
     "metadata": {},
     "output_type": "execute_result"
    }
   ],
   "source": [
    "avg_order_frequency = round(get_avg_order_frequency(\n",
    "    orders['order_id'].nunique(), orders['user_id'].nunique()),1)\n",
    "avg_order_frequency"
   ]
  },
  {
   "cell_type": "markdown",
   "id": "b7f869aa",
   "metadata": {},
   "source": [
    "### Average Customer Value"
   ]
  },
  {
   "cell_type": "markdown",
   "id": "11f48eff",
   "metadata": {},
   "source": [
    "Calculate the **Average Customer Value**\n",
    "\n",
    "Average customer value shows us how much each customer spent on average and is simply the total revenue divided by the total number of customers."
   ]
  },
  {
   "cell_type": "code",
   "execution_count": 37,
   "id": "8965ea6d",
   "metadata": {},
   "outputs": [
    {
     "name": "stdout",
     "output_type": "stream",
     "text": [
      " Average Customer Value: mean    4979.5\n",
      "Name: revenue, dtype: float64\n"
     ]
    }
   ],
   "source": [
    "acv = customers['revenue'].describe().loc[['mean']]\n",
    "print(' Average Customer Value:', acv.round(1))"
   ]
  },
  {
   "cell_type": "code",
   "execution_count": 38,
   "id": "8f5cde3d",
   "metadata": {},
   "outputs": [],
   "source": [
    "# double check"
   ]
  },
  {
   "cell_type": "code",
   "execution_count": 39,
   "id": "123472f7",
   "metadata": {},
   "outputs": [],
   "source": [
    "def get_avg_customer_value(revenue, customers): \n",
    "    \"\"\"Return the Average Customer Value. \n",
    "    \n",
    "    Args:\n",
    "        revenue (float): Total revenue\n",
    "        customers (int): Total customers        \n",
    "    Return:\n",
    "        avg_customer_value (float): Average order value    \n",
    "    \"\"\"\n",
    "    \n",
    "    return revenue / customers"
   ]
  },
  {
   "cell_type": "code",
   "execution_count": 40,
   "id": "fb88bc9e",
   "metadata": {},
   "outputs": [
    {
     "data": {
      "text/plain": [
       "4979.5"
      ]
     },
     "execution_count": 40,
     "metadata": {},
     "output_type": "execute_result"
    }
   ],
   "source": [
    "avg_customer_value = get_avg_customer_value(customers['revenue'].sum(), customers['user_id'].nunique())\n",
    "avg_customer_value.round(1)"
   ]
  },
  {
   "cell_type": "markdown",
   "id": "46a2124c",
   "metadata": {},
   "source": [
    "### Average Customer Lifetime"
   ]
  },
  {
   "cell_type": "markdown",
   "id": "d0d600cc",
   "metadata": {},
   "source": [
    "Average customer lifetime is basically the sum of all customer lifetimes (the amount of time between the acquisition and attrition of each customer) divided by the total number of customers, so this is where it gets messy.\n",
    "\n",
    "Most of the heuristics for calculating CLV require you to know the average customer lifetime and are designed for contractual businesses, not non-contractual business, like retail. In the latter, you are never sure whether a customer is still a customer, so this is never going to be accurate."
   ]
  },
  {
   "cell_type": "code",
   "execution_count": 41,
   "id": "617ec321",
   "metadata": {},
   "outputs": [],
   "source": [
    "def get_avg_customer_lifetime(total_lifetimes, customers):\n",
    "    \"\"\"Return the Average Customer Lifetime. This is for *contractual* businesses only. \n",
    "    \n",
    "    Args: \n",
    "        total_lifetimes (float): The sum of total customer lifetimes\n",
    "        customers (int): Total customers\n",
    "    Return:\n",
    "        avg_customer_lifetime (float): The average lifetime of each customer in days\n",
    "    \"\"\"\n",
    "    \n",
    "    return total_lifetimes / customers"
   ]
  },
  {
   "cell_type": "markdown",
   "id": "3bfb4b35",
   "metadata": {},
   "source": [
    "In the absence of the actual lifetime data, the closest thing we can use is their tenure. That’s flawed, of course, but we don’t have anything else to use. \n",
    "\n",
    "We get back a figure of **26.4 days**, which clearly isn’t going to be correct for this non-contractual business. You’d easily be able to calculate this in a contractual setting though."
   ]
  },
  {
   "cell_type": "code",
   "execution_count": 42,
   "id": "b5f27eb7",
   "metadata": {},
   "outputs": [
    {
     "name": "stdout",
     "output_type": "stream",
     "text": [
      "Average Customer Lifetime: mean    26.4\n",
      "Name: tenure, dtype: float64\n"
     ]
    }
   ],
   "source": [
    "acl = customers['tenure'].describe().loc[['mean']]\n",
    "print('Average Customer Lifetime:', acl.round(1))"
   ]
  },
  {
   "cell_type": "code",
   "execution_count": 43,
   "id": "d9fd2511",
   "metadata": {},
   "outputs": [],
   "source": [
    "# double check"
   ]
  },
  {
   "cell_type": "code",
   "execution_count": 44,
   "id": "97d59dc8",
   "metadata": {},
   "outputs": [
    {
     "data": {
      "text/plain": [
       "26.4"
      ]
     },
     "execution_count": 44,
     "metadata": {},
     "output_type": "execute_result"
    }
   ],
   "source": [
    "avg_customer_lifetime = get_avg_customer_lifetime(customers['tenure'].sum(), customers['user_id'].nunique())\n",
    "avg_customer_lifetime.round(1)"
   ]
  },
  {
   "cell_type": "markdown",
   "id": "775aca92",
   "metadata": {},
   "source": [
    "### Customer Lifetime Value"
   ]
  },
  {
   "cell_type": "markdown",
   "id": "8bd01911",
   "metadata": {},
   "source": [
    "We calculate a heuristic for the average “Customer Lifetime Value” by multiplying the average customer value by the average customer lifetime in years. That gives us a value of **360**.\n",
    "\n",
    "Obviously, this is flawed because we don’t know the actual customer lifetime duration in a non-contractual business, and also because it’s an aggregate measure, not one specific to each customer… However, it’s the sort of thing you’ll often see tools mispresent as “CLV”, even though it’s not."
   ]
  },
  {
   "cell_type": "code",
   "execution_count": 45,
   "id": "090ceb56",
   "metadata": {},
   "outputs": [
    {
     "data": {
      "text/plain": [
       "360.2"
      ]
     },
     "execution_count": 45,
     "metadata": {},
     "output_type": "execute_result"
    }
   ],
   "source": [
    "average_clv = (avg_customer_value * avg_customer_lifetime)/365\n",
    "average_clv.round(1)"
   ]
  },
  {
   "cell_type": "code",
   "execution_count": 46,
   "id": "589a4eb2",
   "metadata": {},
   "outputs": [],
   "source": [
    "# double check"
   ]
  },
  {
   "cell_type": "code",
   "execution_count": 47,
   "id": "9b9af936",
   "metadata": {},
   "outputs": [],
   "source": [
    "def get_avg_clv(avg_customer_value, avg_customer_lifetime):\n",
    "    \"\"\"Return the average Customer Lifetime Value. This is NOT CLV. \n",
    "    \n",
    "    Args:\n",
    "        avg_customer_value (float): Average customer value\n",
    "        avg_customer_lifetime (float): Average customer lifetime in days\n",
    "    Return:\n",
    "        avg_clv (float): Average Customer Lifetime Value\n",
    "    \"\"\"\n",
    "    \n",
    "    return avg_customer_value * (avg_customer_lifetime / 365)"
   ]
  },
  {
   "cell_type": "code",
   "execution_count": 48,
   "id": "f4ede6dd",
   "metadata": {},
   "outputs": [
    {
     "data": {
      "text/plain": [
       "360.2"
      ]
     },
     "execution_count": 48,
     "metadata": {},
     "output_type": "execute_result"
    }
   ],
   "source": [
    "avg_clv = get_avg_clv(avg_customer_value, avg_customer_lifetime)\n",
    "avg_clv.round(1)"
   ]
  },
  {
   "cell_type": "markdown",
   "id": "e9dd8890",
   "metadata": {},
   "source": [
    "In non-contractual retail settings it is not easy to calculate accurate CLV by using Heuristic metrics.\n",
    "\n",
    "To calculate CLV correctly, instead we will use a more robust methodology such as the combination of BG/NBD with Gamma-Gamma."
   ]
  },
  {
   "cell_type": "markdown",
   "id": "85cd8f11",
   "metadata": {},
   "source": [
    "# Gamma-Gamma & BG/NBD "
   ]
  },
  {
   "cell_type": "markdown",
   "id": "db9286f1",
   "metadata": {},
   "source": [
    "We can predict the following things by using these techniques:\n",
    "- Which customer will do a purchase in the next period?\n",
    "- Top N customers are expected to make the most purchases in the next period.\n",
    "- What value will the customer create for our business?"
   ]
  },
  {
   "attachments": {
    "BG-NBD_Formula.png": {
     "image/png": "[encoded data removed]"
    }
   },
   "cell_type": "markdown",
   "id": "47d48ea9",
   "metadata": {},
   "source": [
    "**BG-NBD Formula**\n",
    "![BG-NBD_Formula.png](attachment:BG-NBD_Formula.png)\n",
    "\n",
    "- `E` refers to the expected value\n",
    "- `|` refers to that this probability is conditional (conditional expected number of transactions)\n",
    "- `x` refers to frequency for each customer who purchased at least 2 times.\n",
    "- `tx` refers to recency for each customer. In this case, we will assume the recency will be based on weeks. The time from the last purchasing date to the first purchasing date (weeks).\n",
    "- `T` refers to the time from today’s date to the last purchasing date (weeks).\n",
    "- `r,α` comes from the gamma distribution (buy process). Transaction rate of the mass.\n",
    "- `a,b` comes from the beta distribution (till you die process). The dropout rate of the mass.\n",
    "- `Y(t)` refers to the expected number of transactions for each customer."
   ]
  },
  {
   "attachments": {
    "Gamma-Gamma_Submodel_Formula.png": {
     "image/png": "[encoded data removed]"
    }
   },
   "cell_type": "markdown",
   "id": "8c4eff24",
   "metadata": {},
   "source": [
    "**Gamma-Gamma Submodel Formula**\n",
    "![Gamma-Gamma_Submodel_Formula.png](attachment:Gamma-Gamma_Submodel_Formula.png)\n",
    "\n",
    "- `E` refers to the expected value\n",
    "- `x` refers to frequency for each customer\n",
    "- `mx` refers to the monetary for each customer\n",
    "- `M` refers to the expected value of transactions (expected average profit)\n",
    "- `p,q,γ` comes from the gamma distribution"
   ]
  },
  {
   "cell_type": "markdown",
   "id": "8f2e0620",
   "metadata": {},
   "source": [
    "## Dataset"
   ]
  },
  {
   "cell_type": "markdown",
   "id": "9360715d",
   "metadata": {},
   "source": [
    "**Preparing Dataset for Calculating CLV**"
   ]
  },
  {
   "cell_type": "markdown",
   "id": "9da61477",
   "metadata": {},
   "source": [
    "Our dataset includes orders from time period 2017-03-01 - 2017-03-30.\n",
    "\n",
    "We create a dummy date and calculate columns for the statistical models."
   ]
  },
  {
   "cell_type": "code",
   "execution_count": 49,
   "id": "f222eca9",
   "metadata": {},
   "outputs": [],
   "source": [
    "today_date = dt.datetime(2017, 4, 1)"
   ]
  },
  {
   "cell_type": "code",
   "execution_count": 50,
   "id": "477f1770",
   "metadata": {},
   "outputs": [],
   "source": [
    "cltv = orders.groupby('user_id').agg({\n",
    "    'order_date': [\n",
    "        lambda x: (x.max() - x.min()).days,  # recency\n",
    "        lambda x: (today_date - x.min()).days  # T\n",
    "    ],\n",
    "    'order_id': lambda x: x.nunique(),  # frequency\n",
    "    'revenue': lambda x: x.sum()  # monetary\n",
    "})"
   ]
  },
  {
   "cell_type": "code",
   "execution_count": 51,
   "id": "99efe806",
   "metadata": {},
   "outputs": [
    {
     "data": {
      "text/html": [
       "<div>\n",
       "<style scoped>\n",
       "    .dataframe tbody tr th:only-of-type {\n",
       "        vertical-align: middle;\n",
       "    }\n",
       "\n",
       "    .dataframe tbody tr th {\n",
       "        vertical-align: top;\n",
       "    }\n",
       "\n",
       "    .dataframe thead tr th {\n",
       "        text-align: left;\n",
       "    }\n",
       "\n",
       "    .dataframe thead tr:last-of-type th {\n",
       "        text-align: right;\n",
       "    }\n",
       "</style>\n",
       "<table border=\"1\" class=\"dataframe\">\n",
       "  <thead>\n",
       "    <tr>\n",
       "      <th></th>\n",
       "      <th colspan=\"2\" halign=\"left\">order_date</th>\n",
       "      <th>order_id</th>\n",
       "      <th>revenue</th>\n",
       "    </tr>\n",
       "    <tr>\n",
       "      <th></th>\n",
       "      <th>&lt;lambda_0&gt;</th>\n",
       "      <th>&lt;lambda_1&gt;</th>\n",
       "      <th>&lt;lambda&gt;</th>\n",
       "      <th>&lt;lambda&gt;</th>\n",
       "    </tr>\n",
       "    <tr>\n",
       "      <th>user_id</th>\n",
       "      <th></th>\n",
       "      <th></th>\n",
       "      <th></th>\n",
       "      <th></th>\n",
       "    </tr>\n",
       "  </thead>\n",
       "  <tbody>\n",
       "    <tr>\n",
       "      <th>700</th>\n",
       "      <td>23</td>\n",
       "      <td>25</td>\n",
       "      <td>16</td>\n",
       "      <td>4790</td>\n",
       "    </tr>\n",
       "    <tr>\n",
       "      <th>701</th>\n",
       "      <td>26</td>\n",
       "      <td>31</td>\n",
       "      <td>13</td>\n",
       "      <td>5162</td>\n",
       "    </tr>\n",
       "    <tr>\n",
       "      <th>702</th>\n",
       "      <td>28</td>\n",
       "      <td>31</td>\n",
       "      <td>13</td>\n",
       "      <td>5286</td>\n",
       "    </tr>\n",
       "    <tr>\n",
       "      <th>703</th>\n",
       "      <td>27</td>\n",
       "      <td>30</td>\n",
       "      <td>16</td>\n",
       "      <td>6091</td>\n",
       "    </tr>\n",
       "    <tr>\n",
       "      <th>704</th>\n",
       "      <td>24</td>\n",
       "      <td>27</td>\n",
       "      <td>14</td>\n",
       "      <td>3854</td>\n",
       "    </tr>\n",
       "  </tbody>\n",
       "</table>\n",
       "</div>"
      ],
      "text/plain": [
       "        order_date            order_id  revenue\n",
       "        <lambda_0> <lambda_1> <lambda> <lambda>\n",
       "user_id                                        \n",
       "700             23         25       16     4790\n",
       "701             26         31       13     5162\n",
       "702             28         31       13     5286\n",
       "703             27         30       16     6091\n",
       "704             24         27       14     3854"
      ]
     },
     "execution_count": 51,
     "metadata": {},
     "output_type": "execute_result"
    }
   ],
   "source": [
    "cltv.head()"
   ]
  },
  {
   "cell_type": "code",
   "execution_count": 52,
   "id": "84859988",
   "metadata": {},
   "outputs": [
    {
     "data": {
      "text/html": [
       "<div>\n",
       "<style scoped>\n",
       "    .dataframe tbody tr th:only-of-type {\n",
       "        vertical-align: middle;\n",
       "    }\n",
       "\n",
       "    .dataframe tbody tr th {\n",
       "        vertical-align: top;\n",
       "    }\n",
       "\n",
       "    .dataframe thead th {\n",
       "        text-align: right;\n",
       "    }\n",
       "</style>\n",
       "<table border=\"1\" class=\"dataframe\">\n",
       "  <thead>\n",
       "    <tr style=\"text-align: right;\">\n",
       "      <th></th>\n",
       "      <th>recency</th>\n",
       "      <th>T</th>\n",
       "      <th>frequency</th>\n",
       "      <th>monetary</th>\n",
       "    </tr>\n",
       "    <tr>\n",
       "      <th>user_id</th>\n",
       "      <th></th>\n",
       "      <th></th>\n",
       "      <th></th>\n",
       "      <th></th>\n",
       "    </tr>\n",
       "  </thead>\n",
       "  <tbody>\n",
       "    <tr>\n",
       "      <th>700</th>\n",
       "      <td>23</td>\n",
       "      <td>25</td>\n",
       "      <td>16</td>\n",
       "      <td>4790</td>\n",
       "    </tr>\n",
       "    <tr>\n",
       "      <th>701</th>\n",
       "      <td>26</td>\n",
       "      <td>31</td>\n",
       "      <td>13</td>\n",
       "      <td>5162</td>\n",
       "    </tr>\n",
       "    <tr>\n",
       "      <th>702</th>\n",
       "      <td>28</td>\n",
       "      <td>31</td>\n",
       "      <td>13</td>\n",
       "      <td>5286</td>\n",
       "    </tr>\n",
       "    <tr>\n",
       "      <th>703</th>\n",
       "      <td>27</td>\n",
       "      <td>30</td>\n",
       "      <td>16</td>\n",
       "      <td>6091</td>\n",
       "    </tr>\n",
       "    <tr>\n",
       "      <th>704</th>\n",
       "      <td>24</td>\n",
       "      <td>27</td>\n",
       "      <td>14</td>\n",
       "      <td>3854</td>\n",
       "    </tr>\n",
       "  </tbody>\n",
       "</table>\n",
       "</div>"
      ],
      "text/plain": [
       "         recency   T  frequency  monetary\n",
       "user_id                                  \n",
       "700           23  25         16      4790\n",
       "701           26  31         13      5162\n",
       "702           28  31         13      5286\n",
       "703           27  30         16      6091\n",
       "704           24  27         14      3854"
      ]
     },
     "execution_count": 52,
     "metadata": {},
     "output_type": "execute_result"
    }
   ],
   "source": [
    "# repairing dataset's columns due to the 2 lambda function in the order_date \n",
    "cltv.columns = cltv.columns.droplevel(0)\n",
    "\n",
    "cltv.columns = ['recency', 'T', 'frequency', 'monetary']\n",
    "cltv.head()"
   ]
  },
  {
   "cell_type": "markdown",
   "id": "5a25df33",
   "metadata": {},
   "source": [
    "## Average earning per transaction"
   ]
  },
  {
   "cell_type": "markdown",
   "id": "081bc024",
   "metadata": {},
   "source": [
    "Calculation of the average earning per transaction."
   ]
  },
  {
   "cell_type": "code",
   "execution_count": 53,
   "id": "01e7da80",
   "metadata": {},
   "outputs": [
    {
     "data": {
      "text/html": [
       "<div>\n",
       "<style scoped>\n",
       "    .dataframe tbody tr th:only-of-type {\n",
       "        vertical-align: middle;\n",
       "    }\n",
       "\n",
       "    .dataframe tbody tr th {\n",
       "        vertical-align: top;\n",
       "    }\n",
       "\n",
       "    .dataframe thead th {\n",
       "        text-align: right;\n",
       "    }\n",
       "</style>\n",
       "<table border=\"1\" class=\"dataframe\">\n",
       "  <thead>\n",
       "    <tr style=\"text-align: right;\">\n",
       "      <th></th>\n",
       "      <th>recency</th>\n",
       "      <th>T</th>\n",
       "      <th>frequency</th>\n",
       "      <th>monetary</th>\n",
       "    </tr>\n",
       "    <tr>\n",
       "      <th>user_id</th>\n",
       "      <th></th>\n",
       "      <th></th>\n",
       "      <th></th>\n",
       "      <th></th>\n",
       "    </tr>\n",
       "  </thead>\n",
       "  <tbody>\n",
       "    <tr>\n",
       "      <th>700</th>\n",
       "      <td>23</td>\n",
       "      <td>25</td>\n",
       "      <td>16</td>\n",
       "      <td>299.375000</td>\n",
       "    </tr>\n",
       "    <tr>\n",
       "      <th>701</th>\n",
       "      <td>26</td>\n",
       "      <td>31</td>\n",
       "      <td>13</td>\n",
       "      <td>397.076923</td>\n",
       "    </tr>\n",
       "    <tr>\n",
       "      <th>702</th>\n",
       "      <td>28</td>\n",
       "      <td>31</td>\n",
       "      <td>13</td>\n",
       "      <td>406.615385</td>\n",
       "    </tr>\n",
       "    <tr>\n",
       "      <th>703</th>\n",
       "      <td>27</td>\n",
       "      <td>30</td>\n",
       "      <td>16</td>\n",
       "      <td>380.687500</td>\n",
       "    </tr>\n",
       "    <tr>\n",
       "      <th>704</th>\n",
       "      <td>24</td>\n",
       "      <td>27</td>\n",
       "      <td>14</td>\n",
       "      <td>275.285714</td>\n",
       "    </tr>\n",
       "  </tbody>\n",
       "</table>\n",
       "</div>"
      ],
      "text/plain": [
       "         recency   T  frequency    monetary\n",
       "user_id                                    \n",
       "700           23  25         16  299.375000\n",
       "701           26  31         13  397.076923\n",
       "702           28  31         13  406.615385\n",
       "703           27  30         16  380.687500\n",
       "704           24  27         14  275.285714"
      ]
     },
     "execution_count": 53,
     "metadata": {},
     "output_type": "execute_result"
    }
   ],
   "source": [
    "cltv = cltv[cltv['monetary'] > 0]\n",
    "cltv['monetary'] = cltv['monetary'] / cltv['frequency']\n",
    "cltv.head()"
   ]
  },
  {
   "cell_type": "markdown",
   "id": "2e2ea9a2",
   "metadata": {},
   "source": [
    "Transforming days to weeks for the NG-NBD model."
   ]
  },
  {
   "cell_type": "code",
   "execution_count": 54,
   "id": "42b05b48",
   "metadata": {},
   "outputs": [],
   "source": [
    "cltv['recency'] = cltv['recency'] / 7\n",
    "cltv['T'] = cltv['T'] / 7"
   ]
  },
  {
   "cell_type": "markdown",
   "id": "3c19b376",
   "metadata": {},
   "source": [
    "And I’m filtering out frequency values greater than 1."
   ]
  },
  {
   "cell_type": "code",
   "execution_count": 55,
   "id": "d5a86b86",
   "metadata": {},
   "outputs": [],
   "source": [
    "cltv = cltv[(cltv['frequency'] > 1)]"
   ]
  },
  {
   "cell_type": "markdown",
   "id": "f2b7afc5",
   "metadata": {},
   "source": [
    "## BG-NBD Model"
   ]
  },
  {
   "cell_type": "markdown",
   "id": "d6ca07c2",
   "metadata": {},
   "source": [
    "Creating BG-NBD Model by using `BetaGeoFitter` from `lifetimes package`. \n",
    "\n",
    "Creating an instance and fitting it by using frequency, recency and T values.\n",
    "\n",
    "BG-NBD model works week based, therefore we need to pass the time argument based on weeks."
   ]
  },
  {
   "cell_type": "code",
   "execution_count": 56,
   "id": "808aa3d6",
   "metadata": {},
   "outputs": [
    {
     "name": "stderr",
     "output_type": "stream",
     "text": [
      "/Library/Frameworks/Python.framework/Versions/3.9/lib/python3.9/site-packages/pandas/core/arraylike.py:405: RuntimeWarning: invalid value encountered in sqrt\n",
      "  result = getattr(ufunc, method)(*inputs, **kwargs)\n"
     ]
    },
    {
     "data": {
      "text/plain": [
       "<lifetimes.BetaGeoFitter: fitted with 300 subjects, a: 0.00, alpha: 2.61, b: 0.00, r: 10.08>"
      ]
     },
     "execution_count": 56,
     "metadata": {},
     "output_type": "execute_result"
    }
   ],
   "source": [
    "bgf = BetaGeoFitter(penalizer_coef=0.001)\n",
    "bgf.fit(cltv['frequency'], cltv['recency'], cltv['T'])"
   ]
  },
  {
   "cell_type": "markdown",
   "id": "c2fc869b",
   "metadata": {},
   "source": [
    "Let's predict some expected values."
   ]
  },
  {
   "cell_type": "markdown",
   "id": "bf364912",
   "metadata": {},
   "source": [
    "### Most Orders in a Week"
   ]
  },
  {
   "cell_type": "markdown",
   "id": "d963fe97",
   "metadata": {},
   "source": [
    "- Top 10 customers expected to make the most purchases in a week"
   ]
  },
  {
   "cell_type": "code",
   "execution_count": 57,
   "id": "ac7916b3",
   "metadata": {},
   "outputs": [
    {
     "data": {
      "text/plain": [
       "user_id\n",
       "718    5.4\n",
       "868    5.3\n",
       "791    5.1\n",
       "847    5.1\n",
       "786    5.1\n",
       "922    5.0\n",
       "727    5.0\n",
       "787    4.9\n",
       "793    4.9\n",
       "848    4.9\n",
       "dtype: float64"
      ]
     },
     "execution_count": 57,
     "metadata": {},
     "output_type": "execute_result"
    }
   ],
   "source": [
    "bgf.conditional_expected_number_of_purchases_up_to_time(1, # week\n",
    "                                                        cltv['frequency'],\n",
    "                                                        cltv['recency'],\n",
    "                                                        cltv['T']).sort_values(ascending=False).head(10).round(1)"
   ]
  },
  {
   "cell_type": "markdown",
   "id": "b3d610f8",
   "metadata": {},
   "source": [
    "### Most Orders in a Month"
   ]
  },
  {
   "cell_type": "markdown",
   "id": "15183282",
   "metadata": {},
   "source": [
    "- Top 10 customers expected to make the most purchases in a month"
   ]
  },
  {
   "cell_type": "code",
   "execution_count": 58,
   "id": "09f165c2",
   "metadata": {},
   "outputs": [
    {
     "data": {
      "text/plain": [
       "user_id\n",
       "718    21.7\n",
       "868    21.1\n",
       "791    20.5\n",
       "847    20.5\n",
       "786    20.4\n",
       "922    20.0\n",
       "727    20.0\n",
       "787    19.8\n",
       "793    19.8\n",
       "848    19.6\n",
       "dtype: float64"
      ]
     },
     "execution_count": 58,
     "metadata": {},
     "output_type": "execute_result"
    }
   ],
   "source": [
    "bgf.conditional_expected_number_of_purchases_up_to_time(4, \n",
    "                                                 # 4 weeks = 1 month\n",
    "                                                        cltv['frequency'],\n",
    "                                                        cltv['recency'],\n",
    "                                                        cltv['T']).sort_values(ascending=False).head(10).round(1)"
   ]
  },
  {
   "cell_type": "markdown",
   "id": "2e584f20",
   "metadata": {},
   "source": [
    "### Most Orders in 6 Months"
   ]
  },
  {
   "cell_type": "markdown",
   "id": "7059e22d",
   "metadata": {},
   "source": [
    "- Top 10 customers expected to make the most purchases in next 6 months"
   ]
  },
  {
   "cell_type": "code",
   "execution_count": 59,
   "id": "5b3fcd92",
   "metadata": {},
   "outputs": [
    {
     "data": {
      "text/plain": [
       "user_id\n",
       "718    129.9\n",
       "868    126.5\n",
       "791    123.1\n",
       "847    123.1\n",
       "786    122.2\n",
       "922    120.2\n",
       "727    119.7\n",
       "787    118.7\n",
       "793    118.7\n",
       "848    117.7\n",
       "dtype: float64"
      ]
     },
     "execution_count": 59,
     "metadata": {},
     "output_type": "execute_result"
    }
   ],
   "source": [
    "bgf.conditional_expected_number_of_purchases_up_to_time(4 * 6, \n",
    "                                           # weeks * count = months\n",
    "                                                        cltv['frequency'],\n",
    "                                                        cltv['recency'],\n",
    "                                                        cltv['T']).sort_values(ascending=False).head(10).round(1)"
   ]
  },
  {
   "cell_type": "markdown",
   "id": "e5e448bc",
   "metadata": {},
   "source": [
    "### Total Orders in 6 Months"
   ]
  },
  {
   "cell_type": "markdown",
   "id": "74b9a460",
   "metadata": {},
   "source": [
    "- The count of total transactions expected in next 6 months"
   ]
  },
  {
   "cell_type": "code",
   "execution_count": 60,
   "id": "9eddee7d",
   "metadata": {},
   "outputs": [
    {
     "data": {
      "text/plain": [
       "27865.0"
      ]
     },
     "execution_count": 60,
     "metadata": {},
     "output_type": "execute_result"
    }
   ],
   "source": [
    "bgf.conditional_expected_number_of_purchases_up_to_time(4 * 6,\n",
    "                                                        cltv['frequency'],\n",
    "                                                        cltv['recency'],\n",
    "                                                        cltv['T']).sum().round()"
   ]
  },
  {
   "cell_type": "markdown",
   "id": "cc8402bb",
   "metadata": {},
   "source": [
    "## Gamma-Gamma"
   ]
  },
  {
   "cell_type": "markdown",
   "id": "4f3208f7",
   "metadata": {},
   "source": [
    "Creating Gamma-Gamma Submodel by using `GammaGammaFitter` from `lifetimes package`. \n",
    "\n",
    "Creating an instance and fitting it by using frequency and monetary values."
   ]
  },
  {
   "cell_type": "code",
   "execution_count": 61,
   "id": "09f1825b",
   "metadata": {},
   "outputs": [
    {
     "data": {
      "text/plain": [
       "<lifetimes.GammaGammaFitter: fitted with 300 subjects, p: 3.85, q: 0.34, v: 3.84>"
      ]
     },
     "execution_count": 61,
     "metadata": {},
     "output_type": "execute_result"
    }
   ],
   "source": [
    "ggf = GammaGammaFitter(penalizer_coef=0.01)\n",
    "\n",
    "ggf.fit(cltv['frequency'], cltv['monetary'])"
   ]
  },
  {
   "cell_type": "markdown",
   "id": "b6614125",
   "metadata": {},
   "source": [
    "###  Top 10 by Average Transaction Value"
   ]
  },
  {
   "cell_type": "markdown",
   "id": "ebdf5152",
   "metadata": {},
   "source": [
    "- The top 10 most valuable customers by average transaction value"
   ]
  },
  {
   "cell_type": "code",
   "execution_count": 62,
   "id": "7625595a",
   "metadata": {},
   "outputs": [
    {
     "data": {
      "text/plain": [
       "user_id\n",
       "754    464.7\n",
       "926    427.3\n",
       "828    425.0\n",
       "747    419.7\n",
       "702    412.3\n",
       "701    402.6\n",
       "830    396.0\n",
       "756    390.1\n",
       "833    387.9\n",
       "739    387.4\n",
       "dtype: float64"
      ]
     },
     "execution_count": 62,
     "metadata": {},
     "output_type": "execute_result"
    }
   ],
   "source": [
    "ggf.conditional_expected_average_profit(cltv['frequency'],\n",
    "                               cltv['monetary']).sort_values(ascending=False).head(10).round(1)"
   ]
  },
  {
   "cell_type": "markdown",
   "id": "b4d2b1f4",
   "metadata": {},
   "source": [
    "# CLV Prediction: BG-NBD & Gamma-Gamma"
   ]
  },
  {
   "cell_type": "markdown",
   "id": "12378053",
   "metadata": {},
   "source": [
    "Predicting CLV by using BG/NBD and Gamma-Gamma models"
   ]
  },
  {
   "cell_type": "code",
   "execution_count": 63,
   "id": "63c44cff",
   "metadata": {},
   "outputs": [
    {
     "data": {
      "text/html": [
       "<div>\n",
       "<style scoped>\n",
       "    .dataframe tbody tr th:only-of-type {\n",
       "        vertical-align: middle;\n",
       "    }\n",
       "\n",
       "    .dataframe tbody tr th {\n",
       "        vertical-align: top;\n",
       "    }\n",
       "\n",
       "    .dataframe thead th {\n",
       "        text-align: right;\n",
       "    }\n",
       "</style>\n",
       "<table border=\"1\" class=\"dataframe\">\n",
       "  <thead>\n",
       "    <tr style=\"text-align: right;\">\n",
       "      <th></th>\n",
       "      <th>recency</th>\n",
       "      <th>T</th>\n",
       "      <th>frequency</th>\n",
       "      <th>monetary</th>\n",
       "      <th>cltv_pred_3_months</th>\n",
       "    </tr>\n",
       "    <tr>\n",
       "      <th>user_id</th>\n",
       "      <th></th>\n",
       "      <th></th>\n",
       "      <th></th>\n",
       "      <th></th>\n",
       "      <th></th>\n",
       "    </tr>\n",
       "  </thead>\n",
       "  <tbody>\n",
       "    <tr>\n",
       "      <th>700</th>\n",
       "      <td>3.285714</td>\n",
       "      <td>3.571429</td>\n",
       "      <td>16</td>\n",
       "      <td>299.375000</td>\n",
       "      <td>16341.532688</td>\n",
       "    </tr>\n",
       "    <tr>\n",
       "      <th>701</th>\n",
       "      <td>3.714286</td>\n",
       "      <td>4.428571</td>\n",
       "      <td>13</td>\n",
       "      <td>397.076923</td>\n",
       "      <td>16885.363637</td>\n",
       "    </tr>\n",
       "    <tr>\n",
       "      <th>702</th>\n",
       "      <td>4.000000</td>\n",
       "      <td>4.428571</td>\n",
       "      <td>13</td>\n",
       "      <td>406.615385</td>\n",
       "      <td>17290.677275</td>\n",
       "    </tr>\n",
       "    <tr>\n",
       "      <th>703</th>\n",
       "      <td>3.857143</td>\n",
       "      <td>4.285714</td>\n",
       "      <td>16</td>\n",
       "      <td>380.687500</td>\n",
       "      <td>18622.988495</td>\n",
       "    </tr>\n",
       "    <tr>\n",
       "      <th>704</th>\n",
       "      <td>3.428571</td>\n",
       "      <td>3.857143</td>\n",
       "      <td>14</td>\n",
       "      <td>275.285714</td>\n",
       "      <td>13284.059147</td>\n",
       "    </tr>\n",
       "    <tr>\n",
       "      <th>...</th>\n",
       "      <td>...</td>\n",
       "      <td>...</td>\n",
       "      <td>...</td>\n",
       "      <td>...</td>\n",
       "      <td>...</td>\n",
       "    </tr>\n",
       "    <tr>\n",
       "      <th>995</th>\n",
       "      <td>3.571429</td>\n",
       "      <td>4.142857</td>\n",
       "      <td>15</td>\n",
       "      <td>354.400000</td>\n",
       "      <td>17039.080622</td>\n",
       "    </tr>\n",
       "    <tr>\n",
       "      <th>996</th>\n",
       "      <td>4.000000</td>\n",
       "      <td>4.428571</td>\n",
       "      <td>21</td>\n",
       "      <td>252.952381</td>\n",
       "      <td>14411.191562</td>\n",
       "    </tr>\n",
       "    <tr>\n",
       "      <th>997</th>\n",
       "      <td>3.428571</td>\n",
       "      <td>4.285714</td>\n",
       "      <td>12</td>\n",
       "      <td>292.583333</td>\n",
       "      <td>12167.329858</td>\n",
       "    </tr>\n",
       "    <tr>\n",
       "      <th>998</th>\n",
       "      <td>3.428571</td>\n",
       "      <td>4.000000</td>\n",
       "      <td>9</td>\n",
       "      <td>291.111111</td>\n",
       "      <td>10970.732495</td>\n",
       "    </tr>\n",
       "    <tr>\n",
       "      <th>999</th>\n",
       "      <td>3.857143</td>\n",
       "      <td>4.428571</td>\n",
       "      <td>24</td>\n",
       "      <td>299.791667</td>\n",
       "      <td>18705.453758</td>\n",
       "    </tr>\n",
       "  </tbody>\n",
       "</table>\n",
       "<p>300 rows × 5 columns</p>\n",
       "</div>"
      ],
      "text/plain": [
       "          recency         T  frequency    monetary  cltv_pred_3_months\n",
       "user_id                                                               \n",
       "700      3.285714  3.571429         16  299.375000        16341.532688\n",
       "701      3.714286  4.428571         13  397.076923        16885.363637\n",
       "702      4.000000  4.428571         13  406.615385        17290.677275\n",
       "703      3.857143  4.285714         16  380.687500        18622.988495\n",
       "704      3.428571  3.857143         14  275.285714        13284.059147\n",
       "...           ...       ...        ...         ...                 ...\n",
       "995      3.571429  4.142857         15  354.400000        17039.080622\n",
       "996      4.000000  4.428571         21  252.952381        14411.191562\n",
       "997      3.428571  4.285714         12  292.583333        12167.329858\n",
       "998      3.428571  4.000000          9  291.111111        10970.732495\n",
       "999      3.857143  4.428571         24  299.791667        18705.453758\n",
       "\n",
       "[300 rows x 5 columns]"
      ]
     },
     "execution_count": 63,
     "metadata": {},
     "output_type": "execute_result"
    }
   ],
   "source": [
    "# The customers' lifetime values expected to in the next 3 months\n",
    "cltv['cltv_pred_3_months'] = ggf.customer_lifetime_value(bgf,\n",
    "                                   cltv['frequency'],\n",
    "                                   cltv['recency'],\n",
    "                                   cltv['T'],\n",
    "                                   cltv['monetary'],\n",
    "                                   time=3,  # 3 months\n",
    "                                   freq=\"W\",  # frequency information of T. We set week by using 'W'\n",
    "                                   discount_rate=0.01)\n",
    "cltv"
   ]
  },
  {
   "cell_type": "markdown",
   "id": "61617831",
   "metadata": {},
   "source": [
    "## CLV Customer Segmentation"
   ]
  },
  {
   "cell_type": "markdown",
   "id": "8a1d4d6e",
   "metadata": {},
   "source": [
    "We can segment customers by using their CLV values."
   ]
  },
  {
   "cell_type": "code",
   "execution_count": 64,
   "id": "3e39e6b0",
   "metadata": {},
   "outputs": [
    {
     "data": {
      "text/html": [
       "<div>\n",
       "<style scoped>\n",
       "    .dataframe tbody tr th:only-of-type {\n",
       "        vertical-align: middle;\n",
       "    }\n",
       "\n",
       "    .dataframe tbody tr th {\n",
       "        vertical-align: top;\n",
       "    }\n",
       "\n",
       "    .dataframe thead th {\n",
       "        text-align: right;\n",
       "    }\n",
       "</style>\n",
       "<table border=\"1\" class=\"dataframe\">\n",
       "  <thead>\n",
       "    <tr style=\"text-align: right;\">\n",
       "      <th></th>\n",
       "      <th>recency</th>\n",
       "      <th>T</th>\n",
       "      <th>frequency</th>\n",
       "      <th>monetary</th>\n",
       "      <th>cltv_pred_3_months</th>\n",
       "      <th>segment</th>\n",
       "    </tr>\n",
       "    <tr>\n",
       "      <th>user_id</th>\n",
       "      <th></th>\n",
       "      <th></th>\n",
       "      <th></th>\n",
       "      <th></th>\n",
       "      <th></th>\n",
       "      <th></th>\n",
       "    </tr>\n",
       "  </thead>\n",
       "  <tbody>\n",
       "    <tr>\n",
       "      <th>700</th>\n",
       "      <td>3.285714</td>\n",
       "      <td>3.571429</td>\n",
       "      <td>16</td>\n",
       "      <td>299.375000</td>\n",
       "      <td>16341.532688</td>\n",
       "      <td>B</td>\n",
       "    </tr>\n",
       "    <tr>\n",
       "      <th>701</th>\n",
       "      <td>3.714286</td>\n",
       "      <td>4.428571</td>\n",
       "      <td>13</td>\n",
       "      <td>397.076923</td>\n",
       "      <td>16885.363637</td>\n",
       "      <td>A</td>\n",
       "    </tr>\n",
       "    <tr>\n",
       "      <th>702</th>\n",
       "      <td>4.000000</td>\n",
       "      <td>4.428571</td>\n",
       "      <td>13</td>\n",
       "      <td>406.615385</td>\n",
       "      <td>17290.677275</td>\n",
       "      <td>A</td>\n",
       "    </tr>\n",
       "    <tr>\n",
       "      <th>703</th>\n",
       "      <td>3.857143</td>\n",
       "      <td>4.285714</td>\n",
       "      <td>16</td>\n",
       "      <td>380.687500</td>\n",
       "      <td>18622.988495</td>\n",
       "      <td>A</td>\n",
       "    </tr>\n",
       "    <tr>\n",
       "      <th>704</th>\n",
       "      <td>3.428571</td>\n",
       "      <td>3.857143</td>\n",
       "      <td>14</td>\n",
       "      <td>275.285714</td>\n",
       "      <td>13284.059147</td>\n",
       "      <td>C</td>\n",
       "    </tr>\n",
       "    <tr>\n",
       "      <th>...</th>\n",
       "      <td>...</td>\n",
       "      <td>...</td>\n",
       "      <td>...</td>\n",
       "      <td>...</td>\n",
       "      <td>...</td>\n",
       "      <td>...</td>\n",
       "    </tr>\n",
       "    <tr>\n",
       "      <th>995</th>\n",
       "      <td>3.571429</td>\n",
       "      <td>4.142857</td>\n",
       "      <td>15</td>\n",
       "      <td>354.400000</td>\n",
       "      <td>17039.080622</td>\n",
       "      <td>A</td>\n",
       "    </tr>\n",
       "    <tr>\n",
       "      <th>996</th>\n",
       "      <td>4.000000</td>\n",
       "      <td>4.428571</td>\n",
       "      <td>21</td>\n",
       "      <td>252.952381</td>\n",
       "      <td>14411.191562</td>\n",
       "      <td>B</td>\n",
       "    </tr>\n",
       "    <tr>\n",
       "      <th>997</th>\n",
       "      <td>3.428571</td>\n",
       "      <td>4.285714</td>\n",
       "      <td>12</td>\n",
       "      <td>292.583333</td>\n",
       "      <td>12167.329858</td>\n",
       "      <td>C</td>\n",
       "    </tr>\n",
       "    <tr>\n",
       "      <th>998</th>\n",
       "      <td>3.428571</td>\n",
       "      <td>4.000000</td>\n",
       "      <td>9</td>\n",
       "      <td>291.111111</td>\n",
       "      <td>10970.732495</td>\n",
       "      <td>C</td>\n",
       "    </tr>\n",
       "    <tr>\n",
       "      <th>999</th>\n",
       "      <td>3.857143</td>\n",
       "      <td>4.428571</td>\n",
       "      <td>24</td>\n",
       "      <td>299.791667</td>\n",
       "      <td>18705.453758</td>\n",
       "      <td>A</td>\n",
       "    </tr>\n",
       "  </tbody>\n",
       "</table>\n",
       "<p>300 rows × 6 columns</p>\n",
       "</div>"
      ],
      "text/plain": [
       "          recency         T  frequency    monetary  cltv_pred_3_months segment\n",
       "user_id                                                                       \n",
       "700      3.285714  3.571429         16  299.375000        16341.532688       B\n",
       "701      3.714286  4.428571         13  397.076923        16885.363637       A\n",
       "702      4.000000  4.428571         13  406.615385        17290.677275       A\n",
       "703      3.857143  4.285714         16  380.687500        18622.988495       A\n",
       "704      3.428571  3.857143         14  275.285714        13284.059147       C\n",
       "...           ...       ...        ...         ...                 ...     ...\n",
       "995      3.571429  4.142857         15  354.400000        17039.080622       A\n",
       "996      4.000000  4.428571         21  252.952381        14411.191562       B\n",
       "997      3.428571  4.285714         12  292.583333        12167.329858       C\n",
       "998      3.428571  4.000000          9  291.111111        10970.732495       C\n",
       "999      3.857143  4.428571         24  299.791667        18705.453758       A\n",
       "\n",
       "[300 rows x 6 columns]"
      ]
     },
     "execution_count": 64,
     "metadata": {},
     "output_type": "execute_result"
    }
   ],
   "source": [
    "cltv['segment'] = pd.qcut(cltv['cltv_pred_3_months'],3,['C','B','A'])\n",
    "\n",
    "cltv"
   ]
  },
  {
   "cell_type": "code",
   "execution_count": 65,
   "id": "0887f1d2",
   "metadata": {},
   "outputs": [],
   "source": [
    "cltv_a = cltv.loc[cltv['segment'] == \"A\"]\n",
    "cltv_b = cltv.loc[cltv['segment'] == \"B\"]\n",
    "cltv_c = cltv.loc[cltv['segment'] == \"C\"]"
   ]
  },
  {
   "cell_type": "code",
   "execution_count": 66,
   "id": "2df8e8f5",
   "metadata": {},
   "outputs": [
    {
     "data": {
      "text/html": [
       "<div>\n",
       "<style scoped>\n",
       "    .dataframe tbody tr th:only-of-type {\n",
       "        vertical-align: middle;\n",
       "    }\n",
       "\n",
       "    .dataframe tbody tr th {\n",
       "        vertical-align: top;\n",
       "    }\n",
       "\n",
       "    .dataframe thead th {\n",
       "        text-align: right;\n",
       "    }\n",
       "</style>\n",
       "<table border=\"1\" class=\"dataframe\">\n",
       "  <thead>\n",
       "    <tr style=\"text-align: right;\">\n",
       "      <th></th>\n",
       "      <th>recency</th>\n",
       "      <th>T</th>\n",
       "      <th>frequency</th>\n",
       "      <th>monetary</th>\n",
       "      <th>cltv_pred_3_months</th>\n",
       "    </tr>\n",
       "  </thead>\n",
       "  <tbody>\n",
       "    <tr>\n",
       "      <th>count</th>\n",
       "      <td>100.000000</td>\n",
       "      <td>100.000000</td>\n",
       "      <td>100.000000</td>\n",
       "      <td>100.000000</td>\n",
       "      <td>100.000000</td>\n",
       "    </tr>\n",
       "    <tr>\n",
       "      <th>mean</th>\n",
       "      <td>3.844286</td>\n",
       "      <td>4.260000</td>\n",
       "      <td>19.750000</td>\n",
       "      <td>330.033999</td>\n",
       "      <td>18371.006885</td>\n",
       "    </tr>\n",
       "    <tr>\n",
       "      <th>std</th>\n",
       "      <td>0.267142</td>\n",
       "      <td>0.228265</td>\n",
       "      <td>3.430037</td>\n",
       "      <td>33.369362</td>\n",
       "      <td>1658.232438</td>\n",
       "    </tr>\n",
       "    <tr>\n",
       "      <th>min</th>\n",
       "      <td>2.857143</td>\n",
       "      <td>3.142857</td>\n",
       "      <td>11.000000</td>\n",
       "      <td>258.307692</td>\n",
       "      <td>16451.466210</td>\n",
       "    </tr>\n",
       "    <tr>\n",
       "      <th>25%</th>\n",
       "      <td>3.714286</td>\n",
       "      <td>4.142857</td>\n",
       "      <td>17.000000</td>\n",
       "      <td>308.779221</td>\n",
       "      <td>16984.464196</td>\n",
       "    </tr>\n",
       "    <tr>\n",
       "      <th>50%</th>\n",
       "      <td>3.857143</td>\n",
       "      <td>4.285714</td>\n",
       "      <td>20.000000</td>\n",
       "      <td>324.656250</td>\n",
       "      <td>17888.491012</td>\n",
       "    </tr>\n",
       "    <tr>\n",
       "      <th>75%</th>\n",
       "      <td>4.000000</td>\n",
       "      <td>4.428571</td>\n",
       "      <td>22.000000</td>\n",
       "      <td>348.108696</td>\n",
       "      <td>19649.612583</td>\n",
       "    </tr>\n",
       "    <tr>\n",
       "      <th>max</th>\n",
       "      <td>4.142857</td>\n",
       "      <td>4.428571</td>\n",
       "      <td>28.000000</td>\n",
       "      <td>458.785714</td>\n",
       "      <td>22793.892585</td>\n",
       "    </tr>\n",
       "  </tbody>\n",
       "</table>\n",
       "</div>"
      ],
      "text/plain": [
       "          recency           T   frequency    monetary  cltv_pred_3_months\n",
       "count  100.000000  100.000000  100.000000  100.000000          100.000000\n",
       "mean     3.844286    4.260000   19.750000  330.033999        18371.006885\n",
       "std      0.267142    0.228265    3.430037   33.369362         1658.232438\n",
       "min      2.857143    3.142857   11.000000  258.307692        16451.466210\n",
       "25%      3.714286    4.142857   17.000000  308.779221        16984.464196\n",
       "50%      3.857143    4.285714   20.000000  324.656250        17888.491012\n",
       "75%      4.000000    4.428571   22.000000  348.108696        19649.612583\n",
       "max      4.142857    4.428571   28.000000  458.785714        22793.892585"
      ]
     },
     "execution_count": 66,
     "metadata": {},
     "output_type": "execute_result"
    }
   ],
   "source": [
    "cltv_a.describe()"
   ]
  },
  {
   "cell_type": "markdown",
   "id": "7ef65899",
   "metadata": {},
   "source": [
    "## Average CLV per Segment"
   ]
  },
  {
   "cell_type": "markdown",
   "id": "bdf02e99",
   "metadata": {},
   "source": [
    "Let's have a look on the average Customer Lifetime Value (3 months) per segment (A,B,C)."
   ]
  },
  {
   "cell_type": "code",
   "execution_count": 67,
   "id": "c70aec5f",
   "metadata": {},
   "outputs": [],
   "source": [
    "# Mean CLTV: 3m prediction\n",
    "a_cltv_3m = cltv_a['cltv_pred_3_months'].describe().loc[['mean']]\n",
    "b_cltv_3m = cltv_b['cltv_pred_3_months'].describe().loc[['mean']]\n",
    "c_cltv_3m = cltv_c['cltv_pred_3_months'].describe().loc[['mean']]"
   ]
  },
  {
   "cell_type": "code",
   "execution_count": 68,
   "id": "c97d78e7",
   "metadata": {},
   "outputs": [
    {
     "name": "stdout",
     "output_type": "stream",
     "text": [
      "Customers per segment: 100 100 100\n",
      "\n",
      "Average Customer Lifetime Value in segment A: mean    18371.0\n",
      "Name: cltv_pred_3_months, dtype: float64\n",
      "\n",
      "Average Customer Lifetime Value in segment B: mean    15083.4\n",
      "Name: cltv_pred_3_months, dtype: float64\n",
      "\n",
      "Average Customer Lifetime Value in segment C: mean    11950.1\n",
      "Name: cltv_pred_3_months, dtype: float64\n"
     ]
    }
   ],
   "source": [
    "print('Customers per segment:', len(cltv_a), len(cltv_b), len(cltv_c))\n",
    "print()\n",
    "print('Average Customer Lifetime Value in segment A:', a_cltv_3m.round(1))\n",
    "print()\n",
    "print('Average Customer Lifetime Value in segment B:', b_cltv_3m.round(1))\n",
    "print()\n",
    "print('Average Customer Lifetime Value in segment C:', c_cltv_3m.round(1))"
   ]
  },
  {
   "cell_type": "markdown",
   "id": "1ec39534",
   "metadata": {},
   "source": [
    "As we can see above, there is a clear difference in average customer lifetime value per customer in each segment."
   ]
  },
  {
   "cell_type": "code",
   "execution_count": 69,
   "id": "2c3a598d",
   "metadata": {},
   "outputs": [
    {
     "name": "stdout",
     "output_type": "stream",
     "text": [
      "          recency         T  frequency    monetary  cltv_pred_3_months segment\n",
      "user_id                                                                       \n",
      "744      3.714286  4.285714         17  325.764706        16537.728586       A\n",
      "883      4.000000  4.428571         19  309.421053        16507.151425       A\n",
      "974      3.857143  4.285714         18  313.333333        16484.468654       A\n",
      "992      4.000000  4.285714         20  292.500000        16468.171075       A\n",
      "720      4.000000  4.428571         15  356.666667        16451.466210       A\n",
      "          recency         T  frequency    monetary  cltv_pred_3_months segment\n",
      "user_id                                                                       \n",
      "910      4.000000  4.428571         14  370.285714        16412.596643       B\n",
      "841      3.857143  4.142857         20  285.250000        16400.228900       B\n",
      "858      3.714286  4.428571         19  307.368421        16397.718058       B\n",
      "940      4.000000  4.285714         17  322.882353        16391.504803       B\n",
      "700      3.285714  3.571429         16  299.375000        16341.532688       B\n",
      "___________________\n",
      "          recency         T  frequency    monetary  cltv_pred_3_months segment\n",
      "user_id                                                                       \n",
      "948      3.714286  4.428571         16  288.125000        13811.432651       B\n",
      "746      4.142857  4.428571         21  242.095238        13793.085647       B\n",
      "936      4.000000  4.428571         17  275.705882        13713.920826       B\n",
      "732      3.142857  4.285714         13  315.076923        13678.775033       B\n",
      "959      3.714286  4.000000         19  240.000000        13636.911884       B\n",
      "          recency         T  frequency    monetary  cltv_pred_3_months segment\n",
      "user_id                                                                       \n",
      "782      4.000000  4.428571         15  295.333333        13624.457732       C\n",
      "909      4.000000  4.428571         13  317.846154        13518.645521       C\n",
      "924      2.428571  4.428571         10  362.700000        13476.952156       C\n",
      "779      3.571429  4.000000         12  308.166667        13368.942760       C\n",
      "981      4.000000  4.285714         14  294.500000        13326.594590       C\n"
     ]
    }
   ],
   "source": [
    "print(cltv_a.sort_values(by='cltv_pred_3_months', ascending=False).tail())\n",
    "print(cltv_b.sort_values(by='cltv_pred_3_months', ascending=False).head())\n",
    "print('___________________')\n",
    "print(cltv_b.sort_values(by='cltv_pred_3_months', ascending=False).tail())\n",
    "print(cltv_c.sort_values(by='cltv_pred_3_months', ascending=False).head())"
   ]
  },
  {
   "cell_type": "markdown",
   "id": "64caa75b",
   "metadata": {},
   "source": [
    "All 300 customers are divided correctly to their segments based on their CLV for next 3 months."
   ]
  },
  {
   "cell_type": "code",
   "execution_count": 70,
   "id": "6507e845",
   "metadata": {},
   "outputs": [
    {
     "data": {
      "text/plain": [
       "<AxesSubplot:xlabel='cltv_pred_3_months'>"
      ]
     },
     "execution_count": 70,
     "metadata": {},
     "output_type": "execute_result"
    },
    {
     "data": {
      "image/png": "[encoded data removed]",
      "text/plain": [
       "<Figure size 432x288 with 1 Axes>"
      ]
     },
     "metadata": {
      "needs_background": "light"
     },
     "output_type": "display_data"
    }
   ],
   "source": [
    "sns.boxplot(cltv_a['cltv_pred_3_months'])\n",
    "sns.boxplot(cltv_b['cltv_pred_3_months'])\n",
    "sns.boxplot(cltv_c['cltv_pred_3_months'])"
   ]
  },
  {
   "cell_type": "code",
   "execution_count": 71,
   "id": "bc28aa5e",
   "metadata": {
    "scrolled": true
   },
   "outputs": [
    {
     "name": "stdout",
     "output_type": "stream",
     "text": [
      "Segment A - CLTV 3 months 1837101.0\n",
      "Segment B - CLTV 3 months 1508343.0\n",
      "Segment C - CLTV 3 months 1195009.0\n"
     ]
    }
   ],
   "source": [
    "cltv_a_sum = cltv_a.sort_values(by='cltv_pred_3_months', ascending=False)\n",
    "cltv_b_sum = cltv_b.sort_values(by='cltv_pred_3_months', ascending=False)\n",
    "cltv_c_sum = cltv_c.sort_values(by='cltv_pred_3_months', ascending=False)\n",
    "\n",
    "#cltv_sum = cltv_a_sum + cltv_b_sum + cltv_c_sum\n",
    "print('Segment A - CLTV 3 months',cltv_a_sum['cltv_pred_3_months'].sum().round())\n",
    "print('Segment B - CLTV 3 months',cltv_b_sum['cltv_pred_3_months'].sum().round())\n",
    "print('Segment C - CLTV 3 months',cltv_c_sum['cltv_pred_3_months'].sum().round())\n"
   ]
  },
  {
   "cell_type": "code",
   "execution_count": 72,
   "id": "ca8f2d6d",
   "metadata": {
    "scrolled": true
   },
   "outputs": [
    {
     "data": {
      "text/plain": [
       "'Segments A, B, C below'"
      ]
     },
     "metadata": {},
     "output_type": "display_data"
    },
    {
     "data": {
      "image/png": "[encoded data removed]",
      "text/plain": [
       "<Figure size 1008x216 with 1 Axes>"
      ]
     },
     "metadata": {
      "needs_background": "light"
     },
     "output_type": "display_data"
    },
    {
     "data": {
      "image/png": "[encoded data removed]",
      "text/plain": [
       "<Figure size 1008x216 with 1 Axes>"
      ]
     },
     "metadata": {
      "needs_background": "light"
     },
     "output_type": "display_data"
    },
    {
     "data": {
      "image/png": "[encoded data removed]",
      "text/plain": [
       "<Figure size 1008x216 with 1 Axes>"
      ]
     },
     "metadata": {
      "needs_background": "light"
     },
     "output_type": "display_data"
    }
   ],
   "source": [
    "basket = 100\n",
    "display('Segments A, B, C below')\n",
    "cltv_a.hist('cltv_pred_3_months', bins=basket, figsize=(14,3), range=(16000, 23000));\n",
    "cltv_b.hist('cltv_pred_3_months', bins=basket, figsize=(14,3), range=(13000, 17000));\n",
    "cltv_c.hist('cltv_pred_3_months', bins=basket, figsize=(14,3), range=(10000, 14000));"
   ]
  },
  {
   "cell_type": "code",
   "execution_count": 73,
   "id": "c4f37699",
   "metadata": {},
   "outputs": [
    {
     "data": {
      "text/html": [
       "<div>\n",
       "<style scoped>\n",
       "    .dataframe tbody tr th:only-of-type {\n",
       "        vertical-align: middle;\n",
       "    }\n",
       "\n",
       "    .dataframe tbody tr th {\n",
       "        vertical-align: top;\n",
       "    }\n",
       "\n",
       "    .dataframe thead th {\n",
       "        text-align: right;\n",
       "    }\n",
       "</style>\n",
       "<table border=\"1\" class=\"dataframe\">\n",
       "  <thead>\n",
       "    <tr style=\"text-align: right;\">\n",
       "      <th></th>\n",
       "      <th>recency</th>\n",
       "      <th>T</th>\n",
       "      <th>frequency</th>\n",
       "      <th>monetary</th>\n",
       "      <th>cltv_pred_3_months</th>\n",
       "      <th>segment</th>\n",
       "    </tr>\n",
       "    <tr>\n",
       "      <th>user_id</th>\n",
       "      <th></th>\n",
       "      <th></th>\n",
       "      <th></th>\n",
       "      <th></th>\n",
       "      <th></th>\n",
       "      <th></th>\n",
       "    </tr>\n",
       "  </thead>\n",
       "  <tbody>\n",
       "    <tr>\n",
       "      <th>700</th>\n",
       "      <td>3.285714</td>\n",
       "      <td>3.571429</td>\n",
       "      <td>16</td>\n",
       "      <td>299.375000</td>\n",
       "      <td>16341.532688</td>\n",
       "      <td>B</td>\n",
       "    </tr>\n",
       "    <tr>\n",
       "      <th>701</th>\n",
       "      <td>3.714286</td>\n",
       "      <td>4.428571</td>\n",
       "      <td>13</td>\n",
       "      <td>397.076923</td>\n",
       "      <td>16885.363637</td>\n",
       "      <td>A</td>\n",
       "    </tr>\n",
       "    <tr>\n",
       "      <th>702</th>\n",
       "      <td>4.000000</td>\n",
       "      <td>4.428571</td>\n",
       "      <td>13</td>\n",
       "      <td>406.615385</td>\n",
       "      <td>17290.677275</td>\n",
       "      <td>A</td>\n",
       "    </tr>\n",
       "    <tr>\n",
       "      <th>703</th>\n",
       "      <td>3.857143</td>\n",
       "      <td>4.285714</td>\n",
       "      <td>16</td>\n",
       "      <td>380.687500</td>\n",
       "      <td>18622.988495</td>\n",
       "      <td>A</td>\n",
       "    </tr>\n",
       "    <tr>\n",
       "      <th>704</th>\n",
       "      <td>3.428571</td>\n",
       "      <td>3.857143</td>\n",
       "      <td>14</td>\n",
       "      <td>275.285714</td>\n",
       "      <td>13284.059147</td>\n",
       "      <td>C</td>\n",
       "    </tr>\n",
       "  </tbody>\n",
       "</table>\n",
       "</div>"
      ],
      "text/plain": [
       "          recency         T  frequency    monetary  cltv_pred_3_months segment\n",
       "user_id                                                                       \n",
       "700      3.285714  3.571429         16  299.375000        16341.532688       B\n",
       "701      3.714286  4.428571         13  397.076923        16885.363637       A\n",
       "702      4.000000  4.428571         13  406.615385        17290.677275       A\n",
       "703      3.857143  4.285714         16  380.687500        18622.988495       A\n",
       "704      3.428571  3.857143         14  275.285714        13284.059147       C"
      ]
     },
     "execution_count": 73,
     "metadata": {},
     "output_type": "execute_result"
    }
   ],
   "source": [
    "cltv.head()"
   ]
  },
  {
   "cell_type": "markdown",
   "id": "27b76200",
   "metadata": {},
   "source": [
    "# RFM Segmentation"
   ]
  },
  {
   "cell_type": "markdown",
   "id": "df114d9b",
   "metadata": {},
   "source": [
    "RFM segmentation is a great method to identify groups of customers for special treatment."
   ]
  },
  {
   "cell_type": "code",
   "execution_count": 74,
   "id": "04e8dcf0",
   "metadata": {},
   "outputs": [
    {
     "data": {
      "image/png": "[encoded data removed]",
      "text/plain": [
       "<Figure size 432x288 with 1 Axes>"
      ]
     },
     "metadata": {
      "needs_background": "light"
     },
     "output_type": "display_data"
    }
   ],
   "source": [
    "# recency plot\n",
    "x = cltv['recency']\n",
    "ax = sns.distplot(x)"
   ]
  },
  {
   "cell_type": "code",
   "execution_count": 75,
   "id": "7f96e068",
   "metadata": {},
   "outputs": [
    {
     "data": {
      "image/png": "[encoded data removed]",
      "text/plain": [
       "<Figure size 432x288 with 1 Axes>"
      ]
     },
     "metadata": {
      "needs_background": "light"
     },
     "output_type": "display_data"
    }
   ],
   "source": [
    "# frequency plot\n",
    "x = cltv['frequency']\n",
    "ax = sns.distplot(x)"
   ]
  },
  {
   "cell_type": "code",
   "execution_count": 76,
   "id": "30273167",
   "metadata": {},
   "outputs": [
    {
     "data": {
      "image/png": "[encoded data removed]",
      "text/plain": [
       "<Figure size 432x288 with 1 Axes>"
      ]
     },
     "metadata": {
      "needs_background": "light"
     },
     "output_type": "display_data"
    }
   ],
   "source": [
    "# monetary plot\n",
    "x = cltv['monetary']\n",
    "ax = sns.distplot(x)"
   ]
  },
  {
   "cell_type": "code",
   "execution_count": 77,
   "id": "d1a29433",
   "metadata": {},
   "outputs": [
    {
     "data": {
      "image/png": "[encoded data removed]",
      "text/plain": [
       "<Figure size 432x288 with 1 Axes>"
      ]
     },
     "metadata": {
      "needs_background": "light"
     },
     "output_type": "display_data"
    }
   ],
   "source": [
    "x = cltv['cltv_pred_3_months']\n",
    "ax = sns.distplot(x)"
   ]
  },
  {
   "cell_type": "code",
   "execution_count": 78,
   "id": "c44e0226",
   "metadata": {},
   "outputs": [
    {
     "data": {
      "text/plain": [
       "{'recency': {0.25: 3.5714285714285716, 0.5: 3.857142857142857, 0.75: 4.0},\n",
       " 'T': {0.25: 4.142857142857143,\n",
       "  0.5: 4.285714285714286,\n",
       "  0.75: 4.428571428571429},\n",
       " 'frequency': {0.25: 13.75, 0.5: 16.0, 0.75: 19.0},\n",
       " 'monetary': {0.25: 275.2527472527472,\n",
       "  0.5: 303.92105263157896,\n",
       "  0.75: 325.75367647058823},\n",
       " 'cltv_pred_3_months': {0.25: 12880.548190491474,\n",
       "  0.5: 15126.825597381434,\n",
       "  0.75: 16969.004837382345}}"
      ]
     },
     "execution_count": 78,
     "metadata": {},
     "output_type": "execute_result"
    }
   ],
   "source": [
    "# Split the data into 4 segments based on quatile\n",
    "\n",
    "quantils = cltv.quantile(q=[0.25, 0.5, 0.75])\n",
    "quantils = quantils.to_dict()\n",
    "quantils"
   ]
  },
  {
   "cell_type": "code",
   "execution_count": 79,
   "id": "9a745b58",
   "metadata": {},
   "outputs": [],
   "source": [
    "# Functions to create R, F, M Segments\n",
    "# 3 parameters- x=my variable, d=dictionary, p = percentile(quantile value)\n",
    "# RScores = Recency Score\n",
    "# FScores = Frequency Score & Monetary Score\n",
    "\n",
    "def RScores(x,p,d):\n",
    "    if x <= d[p][0.25]:\n",
    "        return 1\n",
    "    elif x <= d[p][0.50]:\n",
    "        return 2\n",
    "    elif x <= d[p][0.75]:\n",
    "        return 3\n",
    "    else:\n",
    "        return 4\n",
    "    \n",
    "def FScores(x,p,d):\n",
    "    if x <= d[p][0.25]:\n",
    "        return 4\n",
    "    elif x <= d[p][0.50]:\n",
    "        return 3\n",
    "    elif x <= d[p][0.75]:\n",
    "        return 2\n",
    "    else:\n",
    "        return 1\n"
   ]
  },
  {
   "cell_type": "code",
   "execution_count": 80,
   "id": "6b1d6c0f",
   "metadata": {},
   "outputs": [
    {
     "data": {
      "text/html": [
       "<div>\n",
       "<style scoped>\n",
       "    .dataframe tbody tr th:only-of-type {\n",
       "        vertical-align: middle;\n",
       "    }\n",
       "\n",
       "    .dataframe tbody tr th {\n",
       "        vertical-align: top;\n",
       "    }\n",
       "\n",
       "    .dataframe thead th {\n",
       "        text-align: right;\n",
       "    }\n",
       "</style>\n",
       "<table border=\"1\" class=\"dataframe\">\n",
       "  <thead>\n",
       "    <tr style=\"text-align: right;\">\n",
       "      <th></th>\n",
       "      <th>recency</th>\n",
       "      <th>T</th>\n",
       "      <th>frequency</th>\n",
       "      <th>monetary</th>\n",
       "      <th>cltv_pred_3_months</th>\n",
       "      <th>segment</th>\n",
       "      <th>R</th>\n",
       "      <th>F</th>\n",
       "      <th>M</th>\n",
       "    </tr>\n",
       "    <tr>\n",
       "      <th>user_id</th>\n",
       "      <th></th>\n",
       "      <th></th>\n",
       "      <th></th>\n",
       "      <th></th>\n",
       "      <th></th>\n",
       "      <th></th>\n",
       "      <th></th>\n",
       "      <th></th>\n",
       "      <th></th>\n",
       "    </tr>\n",
       "  </thead>\n",
       "  <tbody>\n",
       "    <tr>\n",
       "      <th>700</th>\n",
       "      <td>3.285714</td>\n",
       "      <td>3.571429</td>\n",
       "      <td>16</td>\n",
       "      <td>299.375000</td>\n",
       "      <td>16341.532688</td>\n",
       "      <td>B</td>\n",
       "      <td>1</td>\n",
       "      <td>3</td>\n",
       "      <td>3</td>\n",
       "    </tr>\n",
       "    <tr>\n",
       "      <th>701</th>\n",
       "      <td>3.714286</td>\n",
       "      <td>4.428571</td>\n",
       "      <td>13</td>\n",
       "      <td>397.076923</td>\n",
       "      <td>16885.363637</td>\n",
       "      <td>A</td>\n",
       "      <td>2</td>\n",
       "      <td>4</td>\n",
       "      <td>1</td>\n",
       "    </tr>\n",
       "    <tr>\n",
       "      <th>702</th>\n",
       "      <td>4.000000</td>\n",
       "      <td>4.428571</td>\n",
       "      <td>13</td>\n",
       "      <td>406.615385</td>\n",
       "      <td>17290.677275</td>\n",
       "      <td>A</td>\n",
       "      <td>3</td>\n",
       "      <td>4</td>\n",
       "      <td>1</td>\n",
       "    </tr>\n",
       "    <tr>\n",
       "      <th>703</th>\n",
       "      <td>3.857143</td>\n",
       "      <td>4.285714</td>\n",
       "      <td>16</td>\n",
       "      <td>380.687500</td>\n",
       "      <td>18622.988495</td>\n",
       "      <td>A</td>\n",
       "      <td>2</td>\n",
       "      <td>3</td>\n",
       "      <td>1</td>\n",
       "    </tr>\n",
       "    <tr>\n",
       "      <th>704</th>\n",
       "      <td>3.428571</td>\n",
       "      <td>3.857143</td>\n",
       "      <td>14</td>\n",
       "      <td>275.285714</td>\n",
       "      <td>13284.059147</td>\n",
       "      <td>C</td>\n",
       "      <td>1</td>\n",
       "      <td>3</td>\n",
       "      <td>3</td>\n",
       "    </tr>\n",
       "  </tbody>\n",
       "</table>\n",
       "</div>"
      ],
      "text/plain": [
       "          recency         T  frequency    monetary  cltv_pred_3_months  \\\n",
       "user_id                                                                  \n",
       "700      3.285714  3.571429         16  299.375000        16341.532688   \n",
       "701      3.714286  4.428571         13  397.076923        16885.363637   \n",
       "702      4.000000  4.428571         13  406.615385        17290.677275   \n",
       "703      3.857143  4.285714         16  380.687500        18622.988495   \n",
       "704      3.428571  3.857143         14  275.285714        13284.059147   \n",
       "\n",
       "        segment  R  F  M  \n",
       "user_id                   \n",
       "700           B  1  3  3  \n",
       "701           A  2  4  1  \n",
       "702           A  3  4  1  \n",
       "703           A  2  3  1  \n",
       "704           C  1  3  3  "
      ]
     },
     "execution_count": 80,
     "metadata": {},
     "output_type": "execute_result"
    }
   ],
   "source": [
    "cltv['R'] = cltv['recency'].apply(RScores, args=('recency',quantils))\n",
    "cltv['F'] = cltv['frequency'].apply(FScores, args=('frequency',quantils))\n",
    "cltv['M'] = cltv['monetary'].apply(FScores, args=('monetary',quantils))\n",
    "cltv.head()"
   ]
  },
  {
   "cell_type": "code",
   "execution_count": 81,
   "id": "ab3f3b8f",
   "metadata": {},
   "outputs": [
    {
     "data": {
      "text/plain": [
       "Index(['recency', 'T', 'frequency', 'monetary', 'cltv_pred_3_months',\n",
       "       'segment', 'R', 'F', 'M'],\n",
       "      dtype='object')"
      ]
     },
     "execution_count": 81,
     "metadata": {},
     "output_type": "execute_result"
    }
   ],
   "source": [
    "cltv.columns"
   ]
  },
  {
   "cell_type": "code",
   "execution_count": 82,
   "id": "f57e49cb",
   "metadata": {},
   "outputs": [],
   "source": [
    "cltv['RFM_group'] = cltv.R.map(str)+cltv.F.map(str)+cltv.M.map(str)\n",
    "cltv['RFM_score'] = cltv[['R','F','M']].sum(axis=1)"
   ]
  },
  {
   "cell_type": "code",
   "execution_count": 83,
   "id": "fc73f2a3",
   "metadata": {
    "scrolled": true
   },
   "outputs": [
    {
     "data": {
      "text/html": [
       "<div>\n",
       "<style scoped>\n",
       "    .dataframe tbody tr th:only-of-type {\n",
       "        vertical-align: middle;\n",
       "    }\n",
       "\n",
       "    .dataframe tbody tr th {\n",
       "        vertical-align: top;\n",
       "    }\n",
       "\n",
       "    .dataframe thead th {\n",
       "        text-align: right;\n",
       "    }\n",
       "</style>\n",
       "<table border=\"1\" class=\"dataframe\">\n",
       "  <thead>\n",
       "    <tr style=\"text-align: right;\">\n",
       "      <th></th>\n",
       "      <th>recency</th>\n",
       "      <th>T</th>\n",
       "      <th>frequency</th>\n",
       "      <th>monetary</th>\n",
       "      <th>cltv_pred_3_months</th>\n",
       "      <th>segment</th>\n",
       "      <th>R</th>\n",
       "      <th>F</th>\n",
       "      <th>M</th>\n",
       "      <th>RFM_group</th>\n",
       "      <th>RFM_score</th>\n",
       "    </tr>\n",
       "    <tr>\n",
       "      <th>user_id</th>\n",
       "      <th></th>\n",
       "      <th></th>\n",
       "      <th></th>\n",
       "      <th></th>\n",
       "      <th></th>\n",
       "      <th></th>\n",
       "      <th></th>\n",
       "      <th></th>\n",
       "      <th></th>\n",
       "      <th></th>\n",
       "      <th></th>\n",
       "    </tr>\n",
       "  </thead>\n",
       "  <tbody>\n",
       "    <tr>\n",
       "      <th>700</th>\n",
       "      <td>3.285714</td>\n",
       "      <td>3.571429</td>\n",
       "      <td>16</td>\n",
       "      <td>299.375000</td>\n",
       "      <td>16341.532688</td>\n",
       "      <td>B</td>\n",
       "      <td>1</td>\n",
       "      <td>3</td>\n",
       "      <td>3</td>\n",
       "      <td>133</td>\n",
       "      <td>7</td>\n",
       "    </tr>\n",
       "    <tr>\n",
       "      <th>701</th>\n",
       "      <td>3.714286</td>\n",
       "      <td>4.428571</td>\n",
       "      <td>13</td>\n",
       "      <td>397.076923</td>\n",
       "      <td>16885.363637</td>\n",
       "      <td>A</td>\n",
       "      <td>2</td>\n",
       "      <td>4</td>\n",
       "      <td>1</td>\n",
       "      <td>241</td>\n",
       "      <td>7</td>\n",
       "    </tr>\n",
       "    <tr>\n",
       "      <th>702</th>\n",
       "      <td>4.000000</td>\n",
       "      <td>4.428571</td>\n",
       "      <td>13</td>\n",
       "      <td>406.615385</td>\n",
       "      <td>17290.677275</td>\n",
       "      <td>A</td>\n",
       "      <td>3</td>\n",
       "      <td>4</td>\n",
       "      <td>1</td>\n",
       "      <td>341</td>\n",
       "      <td>8</td>\n",
       "    </tr>\n",
       "    <tr>\n",
       "      <th>703</th>\n",
       "      <td>3.857143</td>\n",
       "      <td>4.285714</td>\n",
       "      <td>16</td>\n",
       "      <td>380.687500</td>\n",
       "      <td>18622.988495</td>\n",
       "      <td>A</td>\n",
       "      <td>2</td>\n",
       "      <td>3</td>\n",
       "      <td>1</td>\n",
       "      <td>231</td>\n",
       "      <td>6</td>\n",
       "    </tr>\n",
       "    <tr>\n",
       "      <th>704</th>\n",
       "      <td>3.428571</td>\n",
       "      <td>3.857143</td>\n",
       "      <td>14</td>\n",
       "      <td>275.285714</td>\n",
       "      <td>13284.059147</td>\n",
       "      <td>C</td>\n",
       "      <td>1</td>\n",
       "      <td>3</td>\n",
       "      <td>3</td>\n",
       "      <td>133</td>\n",
       "      <td>7</td>\n",
       "    </tr>\n",
       "  </tbody>\n",
       "</table>\n",
       "</div>"
      ],
      "text/plain": [
       "          recency         T  frequency    monetary  cltv_pred_3_months  \\\n",
       "user_id                                                                  \n",
       "700      3.285714  3.571429         16  299.375000        16341.532688   \n",
       "701      3.714286  4.428571         13  397.076923        16885.363637   \n",
       "702      4.000000  4.428571         13  406.615385        17290.677275   \n",
       "703      3.857143  4.285714         16  380.687500        18622.988495   \n",
       "704      3.428571  3.857143         14  275.285714        13284.059147   \n",
       "\n",
       "        segment  R  F  M RFM_group  RFM_score  \n",
       "user_id                                        \n",
       "700           B  1  3  3       133          7  \n",
       "701           A  2  4  1       241          7  \n",
       "702           A  3  4  1       341          8  \n",
       "703           A  2  3  1       231          6  \n",
       "704           C  1  3  3       133          7  "
      ]
     },
     "execution_count": 83,
     "metadata": {},
     "output_type": "execute_result"
    }
   ],
   "source": [
    "cltv.head()"
   ]
  },
  {
   "cell_type": "markdown",
   "id": "5d48389c",
   "metadata": {},
   "source": [
    "## RFM Scores & Labels"
   ]
  },
  {
   "cell_type": "code",
   "execution_count": 84,
   "id": "543a0425",
   "metadata": {},
   "outputs": [
    {
     "data": {
      "text/html": [
       "<div>\n",
       "<style scoped>\n",
       "    .dataframe tbody tr th:only-of-type {\n",
       "        vertical-align: middle;\n",
       "    }\n",
       "\n",
       "    .dataframe tbody tr th {\n",
       "        vertical-align: top;\n",
       "    }\n",
       "\n",
       "    .dataframe thead th {\n",
       "        text-align: right;\n",
       "    }\n",
       "</style>\n",
       "<table border=\"1\" class=\"dataframe\">\n",
       "  <thead>\n",
       "    <tr style=\"text-align: right;\">\n",
       "      <th></th>\n",
       "      <th>recency</th>\n",
       "      <th>T</th>\n",
       "      <th>frequency</th>\n",
       "      <th>monetary</th>\n",
       "      <th>cltv_pred_3_months</th>\n",
       "      <th>segment</th>\n",
       "      <th>R</th>\n",
       "      <th>F</th>\n",
       "      <th>M</th>\n",
       "      <th>RFM_group</th>\n",
       "      <th>RFM_score</th>\n",
       "      <th>RFM_label</th>\n",
       "    </tr>\n",
       "    <tr>\n",
       "      <th>user_id</th>\n",
       "      <th></th>\n",
       "      <th></th>\n",
       "      <th></th>\n",
       "      <th></th>\n",
       "      <th></th>\n",
       "      <th></th>\n",
       "      <th></th>\n",
       "      <th></th>\n",
       "      <th></th>\n",
       "      <th></th>\n",
       "      <th></th>\n",
       "      <th></th>\n",
       "    </tr>\n",
       "  </thead>\n",
       "  <tbody>\n",
       "    <tr>\n",
       "      <th>700</th>\n",
       "      <td>3.285714</td>\n",
       "      <td>3.571429</td>\n",
       "      <td>16</td>\n",
       "      <td>299.375000</td>\n",
       "      <td>16341.532688</td>\n",
       "      <td>B</td>\n",
       "      <td>1</td>\n",
       "      <td>3</td>\n",
       "      <td>3</td>\n",
       "      <td>133</td>\n",
       "      <td>7</td>\n",
       "      <td>About To Sleep</td>\n",
       "    </tr>\n",
       "    <tr>\n",
       "      <th>701</th>\n",
       "      <td>3.714286</td>\n",
       "      <td>4.428571</td>\n",
       "      <td>13</td>\n",
       "      <td>397.076923</td>\n",
       "      <td>16885.363637</td>\n",
       "      <td>A</td>\n",
       "      <td>2</td>\n",
       "      <td>4</td>\n",
       "      <td>1</td>\n",
       "      <td>241</td>\n",
       "      <td>7</td>\n",
       "      <td>About To Sleep</td>\n",
       "    </tr>\n",
       "    <tr>\n",
       "      <th>702</th>\n",
       "      <td>4.000000</td>\n",
       "      <td>4.428571</td>\n",
       "      <td>13</td>\n",
       "      <td>406.615385</td>\n",
       "      <td>17290.677275</td>\n",
       "      <td>A</td>\n",
       "      <td>3</td>\n",
       "      <td>4</td>\n",
       "      <td>1</td>\n",
       "      <td>341</td>\n",
       "      <td>8</td>\n",
       "      <td>Can’t Lose Them</td>\n",
       "    </tr>\n",
       "    <tr>\n",
       "      <th>703</th>\n",
       "      <td>3.857143</td>\n",
       "      <td>4.285714</td>\n",
       "      <td>16</td>\n",
       "      <td>380.687500</td>\n",
       "      <td>18622.988495</td>\n",
       "      <td>A</td>\n",
       "      <td>2</td>\n",
       "      <td>3</td>\n",
       "      <td>1</td>\n",
       "      <td>231</td>\n",
       "      <td>6</td>\n",
       "      <td>Promising</td>\n",
       "    </tr>\n",
       "    <tr>\n",
       "      <th>704</th>\n",
       "      <td>3.428571</td>\n",
       "      <td>3.857143</td>\n",
       "      <td>14</td>\n",
       "      <td>275.285714</td>\n",
       "      <td>13284.059147</td>\n",
       "      <td>C</td>\n",
       "      <td>1</td>\n",
       "      <td>3</td>\n",
       "      <td>3</td>\n",
       "      <td>133</td>\n",
       "      <td>7</td>\n",
       "      <td>About To Sleep</td>\n",
       "    </tr>\n",
       "  </tbody>\n",
       "</table>\n",
       "</div>"
      ],
      "text/plain": [
       "          recency         T  frequency    monetary  cltv_pred_3_months  \\\n",
       "user_id                                                                  \n",
       "700      3.285714  3.571429         16  299.375000        16341.532688   \n",
       "701      3.714286  4.428571         13  397.076923        16885.363637   \n",
       "702      4.000000  4.428571         13  406.615385        17290.677275   \n",
       "703      3.857143  4.285714         16  380.687500        18622.988495   \n",
       "704      3.428571  3.857143         14  275.285714        13284.059147   \n",
       "\n",
       "        segment  R  F  M RFM_group  RFM_score        RFM_label  \n",
       "user_id                                                         \n",
       "700           B  1  3  3       133          7   About To Sleep  \n",
       "701           A  2  4  1       241          7   About To Sleep  \n",
       "702           A  3  4  1       341          8  Can’t Lose Them  \n",
       "703           A  2  3  1       231          6        Promising  \n",
       "704           C  1  3  3       133          7   About To Sleep  "
      ]
     },
     "execution_count": 84,
     "metadata": {},
     "output_type": "execute_result"
    }
   ],
   "source": [
    "# Define rfm_level function\n",
    "def RFM_label(data):\n",
    "    if data['RFM_score'] >= 10:\n",
    "        return 'Lost'\n",
    "    elif ((data['RFM_score'] >= 9) and (data['RFM_score'] < 10)):\n",
    "        return 'Hibernating'\n",
    "    elif ((data['RFM_score'] >= 8) and (data['RFM_score'] < 9)):\n",
    "        return 'Can’t Lose Them'\n",
    "    elif ((data['RFM_score'] >= 7) and (data['RFM_score'] < 8)):\n",
    "        return 'About To Sleep'\n",
    "    elif ((data['RFM_score'] >= 6) and (data['RFM_score'] < 7)):\n",
    "        return 'Promising'\n",
    "    elif ((data['RFM_score'] >= 5) and (data['RFM_score'] < 6)):\n",
    "        return 'Potential Loyalist'\n",
    "    elif ((data['RFM_score'] >= 4) and (data['RFM_score'] < 5)):\n",
    "        return 'Loyal Customers'\n",
    "    else:\n",
    "        return 'Champions'\n",
    "#Create RFM label for customer\n",
    "cltv['RFM_label'] = cltv.apply(RFM_label, axis=1)\n",
    "cltv.head()"
   ]
  },
  {
   "cell_type": "markdown",
   "id": "a8f87fc8",
   "metadata": {},
   "source": [
    "## Customers per Segment\n",
    "How many customers do we have in each segment?"
   ]
  },
  {
   "cell_type": "code",
   "execution_count": 85,
   "id": "f3028aa0",
   "metadata": {},
   "outputs": [
    {
     "name": "stdout",
     "output_type": "stream",
     "text": [
      "                   recency frequency monetary      \n",
      "                      mean      mean     mean count\n",
      "RFM_label                                          \n",
      "About To Sleep         3.8      16.6    308.7    76\n",
      "Can’t Lose Them        3.8      16.1    284.5    55\n",
      "Champions              3.6      22.0    364.2     1\n",
      "Hibernating            3.8      14.4    281.2    36\n",
      "Lost                   4.0      13.2    262.5    35\n",
      "Loyal Customers        3.6      21.3    338.8    13\n",
      "Potential Loyalist     3.7      19.0    326.0    34\n",
      "Promising              3.7      17.3    330.2    50\n"
     ]
    }
   ],
   "source": [
    "# Calculate average values for each RFM_Level, and return a size of each segment \n",
    "cltv_desc = cltv.groupby('RFM_label').agg({\n",
    "    'recency': 'mean',\n",
    "    'frequency': 'mean',\n",
    "    'monetary': ['mean', 'count']\n",
    "}).round(1)\n",
    "# Print the aggregated dataset\n",
    "print(cltv_desc)"
   ]
  },
  {
   "cell_type": "code",
   "execution_count": 86,
   "id": "41286f8e",
   "metadata": {},
   "outputs": [
    {
     "data": {
      "image/png": "[encoded data removed]",
      "text/plain": [
       "<Figure size 1152x648 with 1 Axes>"
      ]
     },
     "metadata": {
      "needs_background": "light"
     },
     "output_type": "display_data"
    }
   ],
   "source": [
    "cltv_desc.columns = ['RecencyMean','FrequencyMean','MonetaryMean', 'Count']\n",
    "\n",
    "#Create our plot and resize it.\n",
    "fig = plt.gcf()\n",
    "ax = fig.add_subplot()\n",
    "fig.set_size_inches(16, 9)\n",
    "squarify.plot(sizes=cltv_desc['Count'], \n",
    "              label=['Lost',\n",
    "                     'Hibernating',\n",
    "                     'Can’t Lose Them',\n",
    "                     'About To Sleep',\n",
    "                     'Promising', \n",
    "                     'Potential Loyalist', \n",
    "                     'Loyal Customers',\n",
    "                     'Champions'], alpha=.6 )\n",
    "plt.title(\"RFM Segments\",fontsize=15,fontweight=\"bold\")\n",
    "plt.axis('off')\n",
    "plt.show()"
   ]
  },
  {
   "cell_type": "markdown",
   "id": "2e442b9d",
   "metadata": {},
   "source": [
    "Now that we've identified our customer categories, we can decide how to approach or deal with each customer.\n",
    "\n",
    "- Champions : Reward them. Can be early adopters of new products. Will promote your brand. Most likely to send referrals.\n",
    "- Loyal Customer : Upsell higher value products. Ask for reviews.\n",
    "- Potential Loyalist : Offer membership / loyalty program. Keep them engaged. Offer personalised recommendations.\n",
    "- Promising : Offer coupons. Bring them back to the platform and keep them engaged. Offer personalised recommendations.\n",
    "- About to Sleep : Win them back via renewals or newer products, don’t lose them to competition. Talk to them if necessary. Spend time on highest possible personalisation.\n",
    "- Can't Lose Them : Provide helpful resources on the site. Send personalised emails.\n",
    "- Hibernating : Make subject lines of emails very personalised. Revive their interest by a specific discount on a specific product.\n",
    "- Lost : Revive interest with reach out campaign. Ignore otherwise."
   ]
  },
  {
   "cell_type": "markdown",
   "id": "df5b796a",
   "metadata": {},
   "source": [
    "# CLV + RFM Customers"
   ]
  },
  {
   "cell_type": "markdown",
   "id": "ca694504",
   "metadata": {},
   "source": [
    "In order to identify the best approach for customers that bring most value in next 3 months, let's have a look on customers with the highest CLV (3 months) in Segment A and check their RFM segmentation."
   ]
  },
  {
   "cell_type": "code",
   "execution_count": 87,
   "id": "223bab7a",
   "metadata": {},
   "outputs": [
    {
     "data": {
      "text/html": [
       "<div>\n",
       "<style scoped>\n",
       "    .dataframe tbody tr th:only-of-type {\n",
       "        vertical-align: middle;\n",
       "    }\n",
       "\n",
       "    .dataframe tbody tr th {\n",
       "        vertical-align: top;\n",
       "    }\n",
       "\n",
       "    .dataframe thead th {\n",
       "        text-align: right;\n",
       "    }\n",
       "</style>\n",
       "<table border=\"1\" class=\"dataframe\">\n",
       "  <thead>\n",
       "    <tr style=\"text-align: right;\">\n",
       "      <th></th>\n",
       "      <th>recency</th>\n",
       "      <th>T</th>\n",
       "      <th>frequency</th>\n",
       "      <th>monetary</th>\n",
       "      <th>cltv_pred_3_months</th>\n",
       "      <th>segment</th>\n",
       "      <th>R</th>\n",
       "      <th>F</th>\n",
       "      <th>M</th>\n",
       "      <th>RFM_group</th>\n",
       "      <th>RFM_score</th>\n",
       "      <th>RFM_label</th>\n",
       "    </tr>\n",
       "    <tr>\n",
       "      <th>user_id</th>\n",
       "      <th></th>\n",
       "      <th></th>\n",
       "      <th></th>\n",
       "      <th></th>\n",
       "      <th></th>\n",
       "      <th></th>\n",
       "      <th></th>\n",
       "      <th></th>\n",
       "      <th></th>\n",
       "      <th></th>\n",
       "      <th></th>\n",
       "      <th></th>\n",
       "    </tr>\n",
       "  </thead>\n",
       "  <tbody>\n",
       "    <tr>\n",
       "      <th>700</th>\n",
       "      <td>3.285714</td>\n",
       "      <td>3.571429</td>\n",
       "      <td>16</td>\n",
       "      <td>299.375000</td>\n",
       "      <td>16341.532688</td>\n",
       "      <td>B</td>\n",
       "      <td>1</td>\n",
       "      <td>3</td>\n",
       "      <td>3</td>\n",
       "      <td>133</td>\n",
       "      <td>7</td>\n",
       "      <td>About To Sleep</td>\n",
       "    </tr>\n",
       "    <tr>\n",
       "      <th>701</th>\n",
       "      <td>3.714286</td>\n",
       "      <td>4.428571</td>\n",
       "      <td>13</td>\n",
       "      <td>397.076923</td>\n",
       "      <td>16885.363637</td>\n",
       "      <td>A</td>\n",
       "      <td>2</td>\n",
       "      <td>4</td>\n",
       "      <td>1</td>\n",
       "      <td>241</td>\n",
       "      <td>7</td>\n",
       "      <td>About To Sleep</td>\n",
       "    </tr>\n",
       "    <tr>\n",
       "      <th>702</th>\n",
       "      <td>4.000000</td>\n",
       "      <td>4.428571</td>\n",
       "      <td>13</td>\n",
       "      <td>406.615385</td>\n",
       "      <td>17290.677275</td>\n",
       "      <td>A</td>\n",
       "      <td>3</td>\n",
       "      <td>4</td>\n",
       "      <td>1</td>\n",
       "      <td>341</td>\n",
       "      <td>8</td>\n",
       "      <td>Can’t Lose Them</td>\n",
       "    </tr>\n",
       "    <tr>\n",
       "      <th>703</th>\n",
       "      <td>3.857143</td>\n",
       "      <td>4.285714</td>\n",
       "      <td>16</td>\n",
       "      <td>380.687500</td>\n",
       "      <td>18622.988495</td>\n",
       "      <td>A</td>\n",
       "      <td>2</td>\n",
       "      <td>3</td>\n",
       "      <td>1</td>\n",
       "      <td>231</td>\n",
       "      <td>6</td>\n",
       "      <td>Promising</td>\n",
       "    </tr>\n",
       "    <tr>\n",
       "      <th>704</th>\n",
       "      <td>3.428571</td>\n",
       "      <td>3.857143</td>\n",
       "      <td>14</td>\n",
       "      <td>275.285714</td>\n",
       "      <td>13284.059147</td>\n",
       "      <td>C</td>\n",
       "      <td>1</td>\n",
       "      <td>3</td>\n",
       "      <td>3</td>\n",
       "      <td>133</td>\n",
       "      <td>7</td>\n",
       "      <td>About To Sleep</td>\n",
       "    </tr>\n",
       "  </tbody>\n",
       "</table>\n",
       "</div>"
      ],
      "text/plain": [
       "          recency         T  frequency    monetary  cltv_pred_3_months  \\\n",
       "user_id                                                                  \n",
       "700      3.285714  3.571429         16  299.375000        16341.532688   \n",
       "701      3.714286  4.428571         13  397.076923        16885.363637   \n",
       "702      4.000000  4.428571         13  406.615385        17290.677275   \n",
       "703      3.857143  4.285714         16  380.687500        18622.988495   \n",
       "704      3.428571  3.857143         14  275.285714        13284.059147   \n",
       "\n",
       "        segment  R  F  M RFM_group  RFM_score        RFM_label  \n",
       "user_id                                                         \n",
       "700           B  1  3  3       133          7   About To Sleep  \n",
       "701           A  2  4  1       241          7   About To Sleep  \n",
       "702           A  3  4  1       341          8  Can’t Lose Them  \n",
       "703           A  2  3  1       231          6        Promising  \n",
       "704           C  1  3  3       133          7   About To Sleep  "
      ]
     },
     "execution_count": 87,
     "metadata": {},
     "output_type": "execute_result"
    }
   ],
   "source": [
    "cltv.head()"
   ]
  },
  {
   "cell_type": "markdown",
   "id": "d10846d4",
   "metadata": {},
   "source": [
    "## Segment A & RFM"
   ]
  },
  {
   "cell_type": "markdown",
   "id": "891e4950",
   "metadata": {},
   "source": [
    "Segment A:"
   ]
  },
  {
   "cell_type": "code",
   "execution_count": 88,
   "id": "f5f74464",
   "metadata": {},
   "outputs": [],
   "source": [
    "a_cltv_rfm = cltv.loc[cltv['segment'] == \"A\"]"
   ]
  },
  {
   "cell_type": "code",
   "execution_count": 89,
   "id": "68b7f67f",
   "metadata": {},
   "outputs": [
    {
     "name": "stdout",
     "output_type": "stream",
     "text": [
      "Segment A & RFM:\n",
      "                   recency frequency monetary      \n",
      "                      mean      mean     mean count\n",
      "RFM_label                                          \n",
      "About To Sleep         4.0      18.9    323.8    24\n",
      "Can’t Lose Them        4.1      20.9    308.5     7\n",
      "Champions              3.6      22.0    364.2     1\n",
      "Hibernating            4.1      26.0    258.3     1\n",
      "Loyal Customers        3.6      21.3    338.8    13\n",
      "Potential Loyalist     3.7      19.9    328.2    26\n",
      "Promising              3.8      19.0    339.7    28\n"
     ]
    }
   ],
   "source": [
    "# Calculate average values for each RFM_Level, and return a size of each segment \n",
    "a_cltv_rfm_desc = a_cltv_rfm.groupby('RFM_label').agg({\n",
    "    'recency': 'mean',\n",
    "    'frequency': 'mean',\n",
    "    'monetary': ['mean', 'count']\n",
    "}).round(1)\n",
    "# Print the aggregated dataset\n",
    "print('Segment A & RFM:')\n",
    "print(a_cltv_rfm_desc)"
   ]
  },
  {
   "cell_type": "code",
   "execution_count": 90,
   "id": "0b01ef60",
   "metadata": {
    "scrolled": true
   },
   "outputs": [
    {
     "data": {
      "image/png": "[encoded data removed]",
      "text/plain": [
       "<Figure size 1152x648 with 1 Axes>"
      ]
     },
     "metadata": {
      "needs_background": "light"
     },
     "output_type": "display_data"
    }
   ],
   "source": [
    "a_cltv_rfm_desc.columns = ['RecencyMean','FrequencyMean','MonetaryMean', 'Count']\n",
    "\n",
    "#Create our plot and resize it.\n",
    "fig = plt.gcf()\n",
    "ax = fig.add_subplot()\n",
    "fig.set_size_inches(16, 9)\n",
    "squarify.plot(sizes=a_cltv_rfm_desc['Count'], \n",
    "              label=['Lost',\n",
    "                     'Hibernating',\n",
    "                     'Can’t Lose Them',\n",
    "                     'About To Sleep',\n",
    "                     'Promising', \n",
    "                     'Potential Loyalist', \n",
    "                     'Loyal Customers',\n",
    "                     'Champions'], alpha=.6 )\n",
    "plt.title(\"RFM for Segment A customers\",fontsize=15,fontweight=\"bold\")\n",
    "plt.axis('off')\n",
    "plt.show()"
   ]
  },
  {
   "cell_type": "markdown",
   "id": "d659fd5e",
   "metadata": {},
   "source": [
    "## Segment B & RFM"
   ]
  },
  {
   "cell_type": "markdown",
   "id": "2764e6b5",
   "metadata": {},
   "source": [
    "Segment B:"
   ]
  },
  {
   "cell_type": "code",
   "execution_count": 91,
   "id": "3ae50c11",
   "metadata": {},
   "outputs": [],
   "source": [
    "b_cltv_rfm = cltv.loc[cltv['segment'] == \"B\"]"
   ]
  },
  {
   "cell_type": "code",
   "execution_count": 92,
   "id": "139d9d1c",
   "metadata": {},
   "outputs": [
    {
     "name": "stdout",
     "output_type": "stream",
     "text": [
      "Segment B & RFM:\n",
      "                   recency frequency monetary      \n",
      "                      mean      mean     mean count\n",
      "RFM_label                                          \n",
      "About To Sleep         3.7      16.2    309.4    38\n",
      "Can’t Lose Them        3.9      17.4    287.8    24\n",
      "Hibernating            4.1      15.6    310.5     9\n",
      "Lost                   4.1      19.0    260.5     1\n",
      "Potential Loyalist     3.5      16.1    319.0     8\n",
      "Promising              3.5      15.6    315.1    20\n"
     ]
    }
   ],
   "source": [
    "# Calculate average values for each RFM_Level, and return a size of each segment \n",
    "b_cltv_rfm_desc = b_cltv_rfm.groupby('RFM_label').agg({\n",
    "    'recency': 'mean',\n",
    "    'frequency': 'mean',\n",
    "    'monetary': ['mean', 'count']\n",
    "}).round(1)\n",
    "# Print the aggregated dataset\n",
    "print('Segment B & RFM:')\n",
    "print(b_cltv_rfm_desc)"
   ]
  },
  {
   "cell_type": "code",
   "execution_count": 93,
   "id": "e829c816",
   "metadata": {
    "scrolled": false
   },
   "outputs": [
    {
     "data": {
      "image/png": "[encoded data removed]",
      "text/plain": [
       "<Figure size 1152x648 with 1 Axes>"
      ]
     },
     "metadata": {
      "needs_background": "light"
     },
     "output_type": "display_data"
    }
   ],
   "source": [
    "b_cltv_rfm_desc.columns = ['RecencyMean','FrequencyMean','MonetaryMean', 'Count']\n",
    "\n",
    "#Create our plot and resize it.\n",
    "fig = plt.gcf()\n",
    "ax = fig.add_subplot()\n",
    "fig.set_size_inches(16, 9)\n",
    "squarify.plot(sizes=b_cltv_rfm_desc['Count'], \n",
    "              label=['Lost',\n",
    "                     'Hibernating',\n",
    "                     'Can’t Lose Them',\n",
    "                     'About To Sleep',\n",
    "                     'Promising', \n",
    "                     'Potential Loyalist', \n",
    "                     'Loyal Customers',\n",
    "                     'Champions'], alpha=.6 )\n",
    "plt.title(\"RFM for Segment B customers\",fontsize=15,fontweight=\"bold\")\n",
    "plt.axis('off')\n",
    "plt.show()"
   ]
  },
  {
   "cell_type": "markdown",
   "id": "998bb4ac",
   "metadata": {},
   "source": [
    "## Segment C & RFM"
   ]
  },
  {
   "cell_type": "markdown",
   "id": "a1f826f8",
   "metadata": {},
   "source": [
    "Segment C:"
   ]
  },
  {
   "cell_type": "code",
   "execution_count": 94,
   "id": "524a89c9",
   "metadata": {},
   "outputs": [],
   "source": [
    "c_cltv_rfm = cltv.loc[cltv['segment'] == \"C\"]"
   ]
  },
  {
   "cell_type": "code",
   "execution_count": 95,
   "id": "6a0189f1",
   "metadata": {},
   "outputs": [
    {
     "name": "stdout",
     "output_type": "stream",
     "text": [
      "Segment C & RFM:\n",
      "                recency frequency monetary      \n",
      "                   mean      mean     mean count\n",
      "RFM_label                                       \n",
      "About To Sleep      3.5      14.1    280.9    14\n",
      "Can’t Lose Them     3.5      13.4    274.3    24\n",
      "Hibernating         3.7      13.5    271.9    26\n",
      "Lost                4.0      13.1    262.6    34\n",
      "Promising           2.9       8.5    348.3     2\n"
     ]
    }
   ],
   "source": [
    "# Calculate average values for each RFM_Level, and return a size of each segment \n",
    "c_cltv_rfm_desc = c_cltv_rfm.groupby('RFM_label').agg({\n",
    "    'recency': 'mean',\n",
    "    'frequency': 'mean',\n",
    "    'monetary': ['mean', 'count']\n",
    "}).round(1)\n",
    "# Print the aggregated dataset\n",
    "print('Segment C & RFM:')\n",
    "print(c_cltv_rfm_desc)"
   ]
  },
  {
   "cell_type": "code",
   "execution_count": 96,
   "id": "47a1628a",
   "metadata": {
    "scrolled": false
   },
   "outputs": [
    {
     "data": {
      "image/png": "[encoded data removed]",
      "text/plain": [
       "<Figure size 1152x648 with 1 Axes>"
      ]
     },
     "metadata": {
      "needs_background": "light"
     },
     "output_type": "display_data"
    }
   ],
   "source": [
    "c_cltv_rfm_desc.columns = ['RecencyMean','FrequencyMean','MonetaryMean', 'Count']\n",
    "\n",
    "#Create our plot and resize it.\n",
    "fig = plt.gcf()\n",
    "ax = fig.add_subplot()\n",
    "fig.set_size_inches(16, 9)\n",
    "squarify.plot(sizes=c_cltv_rfm_desc['Count'], \n",
    "              label=['Lost',\n",
    "                     'Hibernating',\n",
    "                     'Can’t Lose Them',\n",
    "                     'About To Sleep',\n",
    "                     'Promising', \n",
    "                     'Potential Loyalist', \n",
    "                     'Loyal Customers',\n",
    "                     'Champions'], alpha=.6 )\n",
    "plt.title(\"RFM for Segment C customers\",fontsize=15,fontweight=\"bold\")\n",
    "plt.axis('off')\n",
    "plt.show()"
   ]
  },
  {
   "cell_type": "markdown",
   "id": "cb1e5c85",
   "metadata": {},
   "source": [
    "## Crosstab Results"
   ]
  },
  {
   "cell_type": "code",
   "execution_count": 97,
   "id": "038d9ac7",
   "metadata": {},
   "outputs": [
    {
     "data": {
      "text/html": [
       "<div>\n",
       "<style scoped>\n",
       "    .dataframe tbody tr th:only-of-type {\n",
       "        vertical-align: middle;\n",
       "    }\n",
       "\n",
       "    .dataframe tbody tr th {\n",
       "        vertical-align: top;\n",
       "    }\n",
       "\n",
       "    .dataframe thead th {\n",
       "        text-align: right;\n",
       "    }\n",
       "</style>\n",
       "<table border=\"1\" class=\"dataframe\">\n",
       "  <thead>\n",
       "    <tr style=\"text-align: right;\">\n",
       "      <th>RFM_label</th>\n",
       "      <th>About To Sleep</th>\n",
       "      <th>Can’t Lose Them</th>\n",
       "      <th>Champions</th>\n",
       "      <th>Hibernating</th>\n",
       "      <th>Lost</th>\n",
       "      <th>Loyal Customers</th>\n",
       "      <th>Potential Loyalist</th>\n",
       "      <th>Promising</th>\n",
       "    </tr>\n",
       "    <tr>\n",
       "      <th>segment</th>\n",
       "      <th></th>\n",
       "      <th></th>\n",
       "      <th></th>\n",
       "      <th></th>\n",
       "      <th></th>\n",
       "      <th></th>\n",
       "      <th></th>\n",
       "      <th></th>\n",
       "    </tr>\n",
       "  </thead>\n",
       "  <tbody>\n",
       "    <tr>\n",
       "      <th>A</th>\n",
       "      <td>24.0</td>\n",
       "      <td>7.0</td>\n",
       "      <td>1.0</td>\n",
       "      <td>1.0</td>\n",
       "      <td>0.0</td>\n",
       "      <td>13.0</td>\n",
       "      <td>26.0</td>\n",
       "      <td>28.0</td>\n",
       "    </tr>\n",
       "    <tr>\n",
       "      <th>B</th>\n",
       "      <td>38.0</td>\n",
       "      <td>24.0</td>\n",
       "      <td>0.0</td>\n",
       "      <td>9.0</td>\n",
       "      <td>1.0</td>\n",
       "      <td>0.0</td>\n",
       "      <td>8.0</td>\n",
       "      <td>20.0</td>\n",
       "    </tr>\n",
       "    <tr>\n",
       "      <th>C</th>\n",
       "      <td>14.0</td>\n",
       "      <td>24.0</td>\n",
       "      <td>0.0</td>\n",
       "      <td>26.0</td>\n",
       "      <td>34.0</td>\n",
       "      <td>0.0</td>\n",
       "      <td>0.0</td>\n",
       "      <td>2.0</td>\n",
       "    </tr>\n",
       "  </tbody>\n",
       "</table>\n",
       "</div>"
      ],
      "text/plain": [
       "RFM_label  About To Sleep  Can’t Lose Them  Champions  Hibernating  Lost  \\\n",
       "segment                                                                    \n",
       "A                    24.0              7.0        1.0          1.0   0.0   \n",
       "B                    38.0             24.0        0.0          9.0   1.0   \n",
       "C                    14.0             24.0        0.0         26.0  34.0   \n",
       "\n",
       "RFM_label  Loyal Customers  Potential Loyalist  Promising  \n",
       "segment                                                    \n",
       "A                     13.0                26.0       28.0  \n",
       "B                      0.0                 8.0       20.0  \n",
       "C                      0.0                 0.0        2.0  "
      ]
     },
     "execution_count": 97,
     "metadata": {},
     "output_type": "execute_result"
    }
   ],
   "source": [
    "ct = (pd.crosstab(cltv.segment,cltv.RFM_label, normalize='index')\\\n",
    "    .round(4)*100).sort_values('segment', ascending=False)\n",
    "\n",
    "ct"
   ]
  },
  {
   "cell_type": "markdown",
   "id": "36ef3d68",
   "metadata": {},
   "source": [
    "## Recommendations"
   ]
  },
  {
   "cell_type": "markdown",
   "id": "1c67e49d",
   "metadata": {},
   "source": [
    "### Champions\n",
    "\n",
    "1 person (Segment A) - customer should be rewarded. Can be early adopter of new products. Will promote your brand. Most likely to send referrals."
   ]
  },
  {
   "cell_type": "code",
   "execution_count": 98,
   "id": "2aa5c2e7",
   "metadata": {},
   "outputs": [
    {
     "data": {
      "text/html": [
       "<div>\n",
       "<style scoped>\n",
       "    .dataframe tbody tr th:only-of-type {\n",
       "        vertical-align: middle;\n",
       "    }\n",
       "\n",
       "    .dataframe tbody tr th {\n",
       "        vertical-align: top;\n",
       "    }\n",
       "\n",
       "    .dataframe thead th {\n",
       "        text-align: right;\n",
       "    }\n",
       "</style>\n",
       "<table border=\"1\" class=\"dataframe\">\n",
       "  <thead>\n",
       "    <tr style=\"text-align: right;\">\n",
       "      <th></th>\n",
       "      <th>user_id</th>\n",
       "      <th>recency</th>\n",
       "      <th>T</th>\n",
       "      <th>frequency</th>\n",
       "      <th>monetary</th>\n",
       "      <th>cltv_pred_3_months</th>\n",
       "      <th>R</th>\n",
       "      <th>F</th>\n",
       "      <th>M</th>\n",
       "      <th>RFM_score</th>\n",
       "    </tr>\n",
       "  </thead>\n",
       "  <tbody>\n",
       "    <tr>\n",
       "      <th>count</th>\n",
       "      <td>1.0</td>\n",
       "      <td>1.000000</td>\n",
       "      <td>1.0</td>\n",
       "      <td>1.0</td>\n",
       "      <td>1.000000</td>\n",
       "      <td>1.000000</td>\n",
       "      <td>1.0</td>\n",
       "      <td>1.0</td>\n",
       "      <td>1.0</td>\n",
       "      <td>1.0</td>\n",
       "    </tr>\n",
       "    <tr>\n",
       "      <th>mean</th>\n",
       "      <td>934.0</td>\n",
       "      <td>3.571429</td>\n",
       "      <td>4.0</td>\n",
       "      <td>22.0</td>\n",
       "      <td>364.227273</td>\n",
       "      <td>22793.892585</td>\n",
       "      <td>1.0</td>\n",
       "      <td>1.0</td>\n",
       "      <td>1.0</td>\n",
       "      <td>3.0</td>\n",
       "    </tr>\n",
       "    <tr>\n",
       "      <th>std</th>\n",
       "      <td>NaN</td>\n",
       "      <td>NaN</td>\n",
       "      <td>NaN</td>\n",
       "      <td>NaN</td>\n",
       "      <td>NaN</td>\n",
       "      <td>NaN</td>\n",
       "      <td>NaN</td>\n",
       "      <td>NaN</td>\n",
       "      <td>NaN</td>\n",
       "      <td>NaN</td>\n",
       "    </tr>\n",
       "    <tr>\n",
       "      <th>min</th>\n",
       "      <td>934.0</td>\n",
       "      <td>3.571429</td>\n",
       "      <td>4.0</td>\n",
       "      <td>22.0</td>\n",
       "      <td>364.227273</td>\n",
       "      <td>22793.892585</td>\n",
       "      <td>1.0</td>\n",
       "      <td>1.0</td>\n",
       "      <td>1.0</td>\n",
       "      <td>3.0</td>\n",
       "    </tr>\n",
       "    <tr>\n",
       "      <th>25%</th>\n",
       "      <td>934.0</td>\n",
       "      <td>3.571429</td>\n",
       "      <td>4.0</td>\n",
       "      <td>22.0</td>\n",
       "      <td>364.227273</td>\n",
       "      <td>22793.892585</td>\n",
       "      <td>1.0</td>\n",
       "      <td>1.0</td>\n",
       "      <td>1.0</td>\n",
       "      <td>3.0</td>\n",
       "    </tr>\n",
       "    <tr>\n",
       "      <th>50%</th>\n",
       "      <td>934.0</td>\n",
       "      <td>3.571429</td>\n",
       "      <td>4.0</td>\n",
       "      <td>22.0</td>\n",
       "      <td>364.227273</td>\n",
       "      <td>22793.892585</td>\n",
       "      <td>1.0</td>\n",
       "      <td>1.0</td>\n",
       "      <td>1.0</td>\n",
       "      <td>3.0</td>\n",
       "    </tr>\n",
       "    <tr>\n",
       "      <th>75%</th>\n",
       "      <td>934.0</td>\n",
       "      <td>3.571429</td>\n",
       "      <td>4.0</td>\n",
       "      <td>22.0</td>\n",
       "      <td>364.227273</td>\n",
       "      <td>22793.892585</td>\n",
       "      <td>1.0</td>\n",
       "      <td>1.0</td>\n",
       "      <td>1.0</td>\n",
       "      <td>3.0</td>\n",
       "    </tr>\n",
       "    <tr>\n",
       "      <th>max</th>\n",
       "      <td>934.0</td>\n",
       "      <td>3.571429</td>\n",
       "      <td>4.0</td>\n",
       "      <td>22.0</td>\n",
       "      <td>364.227273</td>\n",
       "      <td>22793.892585</td>\n",
       "      <td>1.0</td>\n",
       "      <td>1.0</td>\n",
       "      <td>1.0</td>\n",
       "      <td>3.0</td>\n",
       "    </tr>\n",
       "  </tbody>\n",
       "</table>\n",
       "</div>"
      ],
      "text/plain": [
       "       user_id   recency    T  frequency    monetary  cltv_pred_3_months    R  \\\n",
       "count      1.0  1.000000  1.0        1.0    1.000000            1.000000  1.0   \n",
       "mean     934.0  3.571429  4.0       22.0  364.227273        22793.892585  1.0   \n",
       "std        NaN       NaN  NaN        NaN         NaN                 NaN  NaN   \n",
       "min      934.0  3.571429  4.0       22.0  364.227273        22793.892585  1.0   \n",
       "25%      934.0  3.571429  4.0       22.0  364.227273        22793.892585  1.0   \n",
       "50%      934.0  3.571429  4.0       22.0  364.227273        22793.892585  1.0   \n",
       "75%      934.0  3.571429  4.0       22.0  364.227273        22793.892585  1.0   \n",
       "max      934.0  3.571429  4.0       22.0  364.227273        22793.892585  1.0   \n",
       "\n",
       "         F    M  RFM_score  \n",
       "count  1.0  1.0        1.0  \n",
       "mean   1.0  1.0        3.0  \n",
       "std    NaN  NaN        NaN  \n",
       "min    1.0  1.0        3.0  \n",
       "25%    1.0  1.0        3.0  \n",
       "50%    1.0  1.0        3.0  \n",
       "75%    1.0  1.0        3.0  \n",
       "max    1.0  1.0        3.0  "
      ]
     },
     "execution_count": 98,
     "metadata": {},
     "output_type": "execute_result"
    }
   ],
   "source": [
    "champs = cltv[cltv.RFM_label == 'Champions']\n",
    "champs.reset_index(inplace=True)\n",
    "champs.describe()"
   ]
  },
  {
   "cell_type": "markdown",
   "id": "0eb90be6",
   "metadata": {},
   "source": [
    "### Loyal Customer \n",
    "\n",
    "13 customers (Segment A)\n",
    "\n",
    "Upsell higher value products. Ask for reviews."
   ]
  },
  {
   "cell_type": "code",
   "execution_count": 99,
   "id": "f37cf0a0",
   "metadata": {},
   "outputs": [],
   "source": [
    "loyal = cltv[cltv.RFM_label == 'Loyal Customers']\n",
    "loyal.reset_index(inplace=True)\n",
    "#loyal.describe()"
   ]
  },
  {
   "cell_type": "markdown",
   "id": "aaa572bd",
   "metadata": {},
   "source": [
    "### Potential Loyalist\n",
    "\n",
    "26 (Segment A) + 8 (Segment B)\n",
    "\n",
    "Offer membership / loyalty program. Keep them engaged. Offer personalised recommendations."
   ]
  },
  {
   "cell_type": "code",
   "execution_count": 100,
   "id": "e692305c",
   "metadata": {},
   "outputs": [],
   "source": [
    "pot_loyal = cltv[cltv.RFM_label == 'Potential Loyalist']\n",
    "pot_loyal.reset_index(inplace=True)\n",
    "#pot_loyal.describe()"
   ]
  },
  {
   "cell_type": "markdown",
   "id": "f53ff3cb",
   "metadata": {},
   "source": [
    "### Promising\n",
    "\n",
    "28 (Segment A) + 20 (Segment B) + 2 (Segment C)\n",
    "\n",
    "Offer coupons. Bring them back to the platform and keep them engaged. Offer personalised recommendations."
   ]
  },
  {
   "cell_type": "code",
   "execution_count": 101,
   "id": "e581fa97",
   "metadata": {
    "scrolled": true
   },
   "outputs": [],
   "source": [
    "promising = cltv[cltv.RFM_label == 'Promising']\n",
    "promising.reset_index(inplace=True)\n",
    "#promising.describe()"
   ]
  },
  {
   "cell_type": "markdown",
   "id": "f69d2415",
   "metadata": {},
   "source": [
    "### About To Sleep \n",
    "\n",
    "24 (Segment A) + 38 (Segment B) + 14 (Segment C)\n",
    "\n",
    "Win them back via renewals or newer products, don’t lose them to competition. Talk to them if necessary. Spend time on highest possible personalisation."
   ]
  },
  {
   "cell_type": "code",
   "execution_count": 102,
   "id": "74fcfcc6",
   "metadata": {},
   "outputs": [],
   "source": [
    "about2_sleep = cltv[cltv.RFM_label == 'About To Sleep']\n",
    "about2_sleep.reset_index(inplace=True)\n",
    "#about2_sleep.describe()"
   ]
  },
  {
   "cell_type": "markdown",
   "id": "e07dda47",
   "metadata": {},
   "source": [
    "### Can't Lose Them \n",
    "\n",
    "7 (Segment A) + 24 (Segment B) + 24 (Segment C)\n",
    "\n",
    "Provide helpful resources on the site. Send personalised emails."
   ]
  },
  {
   "cell_type": "code",
   "execution_count": 103,
   "id": "b06c79b4",
   "metadata": {},
   "outputs": [],
   "source": [
    "cant_loose = cltv[cltv.RFM_label == 'Can’t Lose Them']\n",
    "cant_loose.reset_index(inplace=True)\n",
    "#cant_loose.describe()"
   ]
  },
  {
   "cell_type": "markdown",
   "id": "70afbc4a",
   "metadata": {},
   "source": [
    "### Hibernating \n",
    "\n",
    "1 (Segment A) + 9 (Segment B) + 26 (Segment C)\n",
    "\n",
    "Make subject lines of emails very personalised. Revive their interest by a specific discount on a specific product."
   ]
  },
  {
   "cell_type": "code",
   "execution_count": 104,
   "id": "821b56f6",
   "metadata": {},
   "outputs": [],
   "source": [
    "hibernating = cltv[cltv.RFM_label == 'Hibernating']\n",
    "hibernating.reset_index(inplace=True)\n",
    "#hibernating.describe()"
   ]
  },
  {
   "cell_type": "markdown",
   "id": "0ce58039",
   "metadata": {},
   "source": [
    "### Lost \n",
    "\n",
    "1 (Segment B) + 34 (Segment C)\n",
    "\n",
    "Revive interest with reach out campaign. Ignore otherwise."
   ]
  },
  {
   "cell_type": "code",
   "execution_count": 105,
   "id": "03058416",
   "metadata": {
    "scrolled": true
   },
   "outputs": [],
   "source": [
    "lost = cltv[cltv.RFM_label == 'Lost']\n",
    "lost.reset_index(inplace=True)\n",
    "#lost.describe()"
   ]
  },
  {
   "cell_type": "markdown",
   "id": "06dd6516",
   "metadata": {},
   "source": [
    "# Possible Revenue Leak"
   ]
  },
  {
   "cell_type": "markdown",
   "id": "e9b1ff97",
   "metadata": {},
   "source": [
    "Let's calculate the possible revenue leak in three months - based on CLV, and RFM Crosstab results"
   ]
  },
  {
   "cell_type": "markdown",
   "id": "3a991e21",
   "metadata": {},
   "source": [
    "- **Safe Group**: Champions, Loyal Customers, Potential Loyalist, Promising\n",
    "- **Risk Group**: About To Sleep, Can't Lose Them, Hibernating, Lost"
   ]
  },
  {
   "cell_type": "markdown",
   "id": "e7112cd5",
   "metadata": {},
   "source": [
    "**SAFE**"
   ]
  },
  {
   "cell_type": "code",
   "execution_count": 106,
   "id": "03b26abb",
   "metadata": {},
   "outputs": [],
   "source": [
    "champs_cltv = champs['cltv_pred_3_months'].describe().loc[['mean']] * len(champs['cltv_pred_3_months'])\n",
    "champs_cltv = champs_cltv.round()\n",
    "champs_cltv_num = len(champs['cltv_pred_3_months'])"
   ]
  },
  {
   "cell_type": "code",
   "execution_count": 107,
   "id": "8b1fd649",
   "metadata": {},
   "outputs": [],
   "source": [
    "loyal_cltv = loyal['cltv_pred_3_months'].describe().loc[['mean']] * len(loyal['cltv_pred_3_months'])\n",
    "loyal_cltv = loyal_cltv.round()\n",
    "loyal_cltv_num = len(loyal['cltv_pred_3_months'])"
   ]
  },
  {
   "cell_type": "code",
   "execution_count": 108,
   "id": "b4719ac0",
   "metadata": {},
   "outputs": [],
   "source": [
    "pot_loyal_cltv = pot_loyal['cltv_pred_3_months'].describe().loc[['mean']] * len(pot_loyal['cltv_pred_3_months'])\n",
    "pot_loyal_cltv = pot_loyal_cltv.round()\n",
    "pot_loyal_cltv_num = len(pot_loyal['cltv_pred_3_months'])"
   ]
  },
  {
   "cell_type": "code",
   "execution_count": 109,
   "id": "30009324",
   "metadata": {},
   "outputs": [],
   "source": [
    "promising_cltv = promising['cltv_pred_3_months'].describe().loc[['mean']] * len(promising['cltv_pred_3_months'])\n",
    "promising_cltv = promising_cltv.round()\n",
    "promising_cltv_num = len(promising['cltv_pred_3_months'])"
   ]
  },
  {
   "cell_type": "code",
   "execution_count": 110,
   "id": "c1cabf3c",
   "metadata": {},
   "outputs": [
    {
     "name": "stdout",
     "output_type": "stream",
     "text": [
      "mean    1743175.0\n",
      "Name: cltv_pred_3_months, dtype: float64\n",
      "\n",
      "98 customers are in the Safe group\n"
     ]
    }
   ],
   "source": [
    "safe_cltv_3m = champs_cltv + loyal_cltv + pot_loyal_cltv + promising_cltv\n",
    "safe_cust_num = champs_cltv_num + loyal_cltv_num + pot_loyal_cltv_num + promising_cltv_num\n",
    "print(safe_cltv_3m)\n",
    "print()\n",
    "print(safe_cust_num, 'customers are in the Safe group')"
   ]
  },
  {
   "cell_type": "markdown",
   "id": "d687559b",
   "metadata": {},
   "source": [
    "**Almost 1.7 million of total CLV is in the SAFE group.**"
   ]
  },
  {
   "cell_type": "markdown",
   "id": "53fc1372",
   "metadata": {},
   "source": [
    "**RISK**"
   ]
  },
  {
   "cell_type": "code",
   "execution_count": 111,
   "id": "eea42166",
   "metadata": {},
   "outputs": [],
   "source": [
    "about2_sleep_cltv = about2_sleep['cltv_pred_3_months'].describe().loc[['mean']] * len(about2_sleep['cltv_pred_3_months'])\n",
    "about2_sleep_cltv = about2_sleep_cltv.round()"
   ]
  },
  {
   "cell_type": "code",
   "execution_count": 112,
   "id": "eddc6a56",
   "metadata": {},
   "outputs": [],
   "source": [
    "cant_loose_cltv = cant_loose['cltv_pred_3_months'].describe().loc[['mean']] * len(cant_loose['cltv_pred_3_months'])\n",
    "cant_loose_cltv = cant_loose_cltv.round()"
   ]
  },
  {
   "cell_type": "code",
   "execution_count": 113,
   "id": "0f9f5bf0",
   "metadata": {},
   "outputs": [],
   "source": [
    "hibernating_cltv = hibernating['cltv_pred_3_months'].describe().loc[['mean']] * len(hibernating['cltv_pred_3_months'])\n",
    "hibernating_cltv = hibernating_cltv.round()"
   ]
  },
  {
   "cell_type": "code",
   "execution_count": 114,
   "id": "a15876fb",
   "metadata": {},
   "outputs": [],
   "source": [
    "lost_cltv = lost['cltv_pred_3_months'].describe().loc[['mean']] * len(lost['cltv_pred_3_months'])\n",
    "lost_cltv = lost_cltv.round()"
   ]
  },
  {
   "cell_type": "markdown",
   "id": "15a734d8",
   "metadata": {},
   "source": [
    "Calculating the revenue leak."
   ]
  },
  {
   "cell_type": "code",
   "execution_count": 115,
   "id": "2fcbc3c7",
   "metadata": {},
   "outputs": [
    {
     "name": "stdout",
     "output_type": "stream",
     "text": [
      "mean    2797277.0\n",
      "Name: cltv_pred_3_months, dtype: float64\n",
      "\n",
      "202 customers are in the RISK group\n",
      "Percent of customers in the RISK group: 67.33333333333333\n"
     ]
    }
   ],
   "source": [
    "risk_cltv_3m = about2_sleep_cltv + cant_loose_cltv + hibernating_cltv + lost_cltv\n",
    "print(risk_cltv_3m)\n",
    "print()\n",
    "print(300-safe_cust_num, 'customers are in the RISK group')\n",
    "print('Percent of customers in the RISK group:', (202/300)*100)"
   ]
  },
  {
   "cell_type": "markdown",
   "id": "00af21e0",
   "metadata": {},
   "source": [
    "**2.8 million of total CLV (3 months) is in the RISK group.**"
   ]
  },
  {
   "cell_type": "code",
   "execution_count": 116,
   "id": "64ce899d",
   "metadata": {},
   "outputs": [
    {
     "data": {
      "text/plain": [
       "mean    61.607897\n",
       "Name: cltv_pred_3_months, dtype: float64"
      ]
     },
     "execution_count": 116,
     "metadata": {},
     "output_type": "execute_result"
    }
   ],
   "source": [
    "# Percentage\n",
    "risk_percentage = (risk_cltv_3m / (safe_cltv_3m + risk_cltv_3m)) * 100\n",
    "risk_percentage"
   ]
  },
  {
   "cell_type": "markdown",
   "id": "88f6f0b2",
   "metadata": {},
   "source": [
    "## Summary"
   ]
  },
  {
   "cell_type": "markdown",
   "id": "4d856ce5",
   "metadata": {},
   "source": [
    "It is highly important to utilize the results of this project due to the high rate of customers in the RISK group:\n",
    "- Over 67% of customers (**202** of 300) are in the RISK groups\n",
    "- 61.6% of total CLV (**2.8 million** of total 4.5M) is a possible revenue leak during the next three months."
   ]
  },
  {
   "cell_type": "markdown",
   "id": "f7b1d28a",
   "metadata": {},
   "source": [
    "# Export"
   ]
  },
  {
   "cell_type": "markdown",
   "id": "2be03149",
   "metadata": {},
   "source": [
    "Saving results to excel file `Results` (to group specific worksheets)."
   ]
  },
  {
   "cell_type": "code",
   "execution_count": 117,
   "id": "bc78c82d",
   "metadata": {},
   "outputs": [],
   "source": [
    "with pd.ExcelWriter('results.xlsx') as writer:\n",
    "    champs.to_excel(writer, sheet_name='Champions')\n",
    "    loyal.to_excel(writer, sheet_name='Loyal Customers')\n",
    "    pot_loyal.to_excel(writer, sheet_name='Potential Loyalist')\n",
    "    promising.to_excel(writer, sheet_name='Promising')\n",
    "    about2_sleep.to_excel(writer, sheet_name='About To Sleep')\n",
    "    cant_loose.to_excel(writer, sheet_name='Cant Loose Them')\n",
    "    hibernating.to_excel(writer, sheet_name='Hibernating')\n",
    "    lost.to_excel(writer, sheet_name='Lost')"
   ]
  },
  {
   "cell_type": "markdown",
   "id": "6f13eb46",
   "metadata": {},
   "source": [
    "___\n",
    "<p><img style=\"display: block; margin-left: auto; margin-right: auto;\" src=\"https://avatars.githubusercontent.com/u/99581812?v=4\" alt=\"\" width=\"89\" height=\"89\" /></p>\n",
    "<p style=\"text-align: center;\">Connect with me:</p>\n",
    "<p style=\"text-align: center;\"><a href=\"https://t.me/gavrilov_se\" target=\"blank\"><img src=\"https://www.svgrepo.com/show/349527/telegram.svg\" alt=\"Telegram_Alexander_Gavrilov_Data_Scientist\" width=\"40\" height=\"30\" align=\"center\" /></a></p>\n",
    "<p style=\"text-align: center;\"><a href=\"mailto:alexander@gavrilov.se\" target=\"blank\"><img src=\"https://www.clipartmax.com/png/full/91-913506_computer-icons-email-address-clip-art-icon-email-vector-png.png\" alt=\"Email_Alexander_Gavrilov_Data_Scientist\" width=\"30\" height=\"30\" align=\"center\" /></a>&nbsp;</p>"
   ]
  }
 ],
 "metadata": {
  "kernelspec": {
   "display_name": "Python 3 (ipykernel)",
   "language": "python",
   "name": "python3"
  },
  "language_info": {
   "codemirror_mode": {
    "name": "ipython",
    "version": 3
   },
   "file_extension": ".py",
   "mimetype": "text/x-python",
   "name": "python",
   "nbconvert_exporter": "python",
   "pygments_lexer": "ipython3",
   "version": "3.9.6"
  },
  "nbTranslate": {
   "displayLangs": [
    "*"
   ],
   "hotkey": "alt-t",
   "langInMainMenu": true,
   "sourceLang": "ru",
   "targetLang": "en",
   "useGoogleTranslate": true
  },
  "toc": {
   "base_numbering": 1,
   "nav_menu": {},
   "number_sections": true,
   "sideBar": true,
   "skip_h1_title": false,
   "title_cell": "Table of Contents",
   "title_sidebar": "Contents",
   "toc_cell": false,
   "toc_position": {
    "height": "calc(100% - 180px)",
    "left": "10px",
    "top": "150px",
    "width": "288px"
   },
   "toc_section_display": true,
   "toc_window_display": true
  }
 },
 "nbformat": 4,
 "nbformat_minor": 5
}
